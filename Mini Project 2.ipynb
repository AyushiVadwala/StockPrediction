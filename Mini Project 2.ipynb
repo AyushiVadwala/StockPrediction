{
 "cells": [
  {
   "cell_type": "markdown",
   "metadata": {},
   "source": [
    "# Mini-Project 2: Time Series Forecasting\n",
    "\n",
    "### CSC 215-01 Artificial Intelligence (Fall 2019)\n",
    "\n",
    "### Team member : \n",
    "    1) Ayushi Vadwala\n",
    "    2) Jeet Shah\n",
    "\n",
    "### Problem Formulation :   \n",
    "    Time series forecasting is an important area of AI. It is important because there are so many prediction problems that involve a time component. This time component makes time series problems more difficult to handle. In this project, we have practiced with time series data to predict stock price. Predict [Close] of a day based on the last 7 days’ data [Open, High, Low, Volume, Close] using different model.\n",
    "            \n",
    "### Models used to predict Stock Price : \n",
    "- Fully-Connected Neural Networks\n",
    "- Long short-term memory (LSTM)\n",
    "- Convolutional Neural Network (CNN)"
   ]
  },
  {
   "cell_type": "code",
   "execution_count": 1,
   "metadata": {},
   "outputs": [],
   "source": [
    "from collections.abc import Sequence\n",
    "from sklearn.model_selection import train_test_split\n",
    "from sklearn import preprocessing\n",
    "import matplotlib.pyplot as plt\n",
    "import numpy as np\n",
    "import pandas as pd\n",
    "import shutil\n",
    "import os\n",
    "\n",
    "\n",
    "# Convert a Pandas dataframe to the x,y inputs that TensorFlow needs\n",
    "def to_xy(df, target):\n",
    "    result = []\n",
    "    for x in df.columns:\n",
    "        if x != target:\n",
    "            result.append(x)\n",
    "    # find out the type of the target column. \n",
    "    target_type = df[target].dtypes\n",
    "    target_type = target_type[0] if isinstance(target_type, Sequence) else target_type\n",
    "    # Encode to int for classification, float otherwise. TensorFlow likes 32 bits.\n",
    "    if target_type in (np.int64, np.int32):\n",
    "        # Classification\n",
    "        dummies = pd.get_dummies(df[target])\n",
    "        return df[result].values.astype(np.float32), dummies.values.astype(np.float32)\n",
    "    else:\n",
    "        # Regression\n",
    "        return df[result].values.astype(np.float32), df[target].values.astype(np.float32)\n",
    "\n",
    "# Nicely formatted time string\n",
    "def hms_string(sec_elapsed):\n",
    "    h = int(sec_elapsed / (60 * 60))\n",
    "    m = int((sec_elapsed % (60 * 60)) / 60)\n",
    "    s = sec_elapsed % 60\n",
    "    return \"{}:{:>02}:{:>05.2f}\".format(h, m, s)\n",
    "\n",
    "\n",
    "# Regression chart.\n",
    "def chart_regression(pred,y,sort=True):\n",
    "    t = pd.DataFrame({'pred' : pred, 'y' : y.flatten()})\n",
    "    if sort:\n",
    "        t.sort_values(by=['y'],inplace=True)\n",
    "    a = plt.plot(t['y'].tolist(),label='expected')\n",
    "    b = plt.plot(t['pred'].tolist(),label='prediction')\n",
    "    plt.ylabel('output')\n",
    "    plt.legend()\n",
    "    plt.show()\n",
    "\n",
    "\n",
    "# Encode a column to a range between normalized_low and normalized_high.\n",
    "def encode_numeric_range(df, name, normalized_low=0, normalized_high=1,\n",
    "                         data_low=None, data_high=None):\n",
    "    if data_low is None:\n",
    "        data_low = min(df[name])\n",
    "        data_high = max(df[name])\n",
    "\n",
    "    df[name] = ((df[name] - data_low) / (data_high - data_low)) \\\n",
    "               * (normalized_high - normalized_low) + normalized_low\n",
    "    \n",
    "\n",
    "def to_sequences(seq_size, data1 ,data2):\n",
    "    x = []\n",
    "    y = []\n",
    "\n",
    "    for i in range(len(data1)-SEQUENCE_SIZE-1):\n",
    "        #print(i)\n",
    "        window = data1[i:(i+SEQUENCE_SIZE)]\n",
    "        after_window = data2[i+SEQUENCE_SIZE]\n",
    "        #window = [[x] for x in window]\n",
    "       #print(\"{} - {}\".format(window,after_window))\n",
    "        x.append(window)\n",
    "        y.append(after_window)\n",
    "        \n",
    "    return np.array(x),np.array(y)\n",
    "\n",
    "def to_sequences_cnn(seq_size, data1 ,data2):\n",
    "    x = []\n",
    "    y = []\n",
    "\n",
    "    for i in range(len(data1)-SEQUENCE_SIZE-1):\n",
    "        #print(i)\n",
    "        window = data1[i:(i+SEQUENCE_SIZE)]\n",
    "        after_window = data2[i+SEQUENCE_SIZE]\n",
    "        window = [[x] for x in window]\n",
    "       #print(\"{} - {}\".format(window,after_window))\n",
    "        x.append(window)\n",
    "        y.append(after_window)\n",
    "        \n",
    "    return np.array(x),np.array(y)\n"
   ]
  },
  {
   "cell_type": "markdown",
   "metadata": {},
   "source": [
    "#### Load dataset into pandas dataframe"
   ]
  },
  {
   "cell_type": "code",
   "execution_count": 3,
   "metadata": {},
   "outputs": [],
   "source": [
    "import pandas as pd\n",
    "\n",
    "df = pd.read_csv('data/CSC215_P2_Stock_Price.csv')"
   ]
  },
  {
   "cell_type": "code",
   "execution_count": 4,
   "metadata": {},
   "outputs": [
    {
     "data": {
      "text/html": [
       "<div>\n",
       "<style scoped>\n",
       "    .dataframe tbody tr th:only-of-type {\n",
       "        vertical-align: middle;\n",
       "    }\n",
       "\n",
       "    .dataframe tbody tr th {\n",
       "        vertical-align: top;\n",
       "    }\n",
       "\n",
       "    .dataframe thead th {\n",
       "        text-align: right;\n",
       "    }\n",
       "</style>\n",
       "<table border=\"1\" class=\"dataframe\">\n",
       "  <thead>\n",
       "    <tr style=\"text-align: right;\">\n",
       "      <th></th>\n",
       "      <th>Date</th>\n",
       "      <th>Open</th>\n",
       "      <th>High</th>\n",
       "      <th>Low</th>\n",
       "      <th>Close</th>\n",
       "      <th>Adj_Close</th>\n",
       "      <th>Volume</th>\n",
       "    </tr>\n",
       "  </thead>\n",
       "  <tbody>\n",
       "    <tr>\n",
       "      <th>0</th>\n",
       "      <td>2000/3/27</td>\n",
       "      <td>3.812500</td>\n",
       "      <td>4.156250</td>\n",
       "      <td>3.812500</td>\n",
       "      <td>4.125000</td>\n",
       "      <td>4.125000</td>\n",
       "      <td>3675600</td>\n",
       "    </tr>\n",
       "    <tr>\n",
       "      <th>1</th>\n",
       "      <td>2000/3/28</td>\n",
       "      <td>4.125000</td>\n",
       "      <td>4.125000</td>\n",
       "      <td>4.000000</td>\n",
       "      <td>4.015625</td>\n",
       "      <td>4.015625</td>\n",
       "      <td>1077600</td>\n",
       "    </tr>\n",
       "    <tr>\n",
       "      <th>2</th>\n",
       "      <td>2000/3/29</td>\n",
       "      <td>4.000000</td>\n",
       "      <td>4.031250</td>\n",
       "      <td>3.953125</td>\n",
       "      <td>4.000000</td>\n",
       "      <td>4.000000</td>\n",
       "      <td>437200</td>\n",
       "    </tr>\n",
       "    <tr>\n",
       "      <th>3</th>\n",
       "      <td>2000/3/30</td>\n",
       "      <td>4.000000</td>\n",
       "      <td>4.000000</td>\n",
       "      <td>3.843750</td>\n",
       "      <td>3.843750</td>\n",
       "      <td>3.843750</td>\n",
       "      <td>1883600</td>\n",
       "    </tr>\n",
       "    <tr>\n",
       "      <th>4</th>\n",
       "      <td>2000/3/31</td>\n",
       "      <td>3.734375</td>\n",
       "      <td>3.734375</td>\n",
       "      <td>3.390625</td>\n",
       "      <td>3.390625</td>\n",
       "      <td>3.390625</td>\n",
       "      <td>7931600</td>\n",
       "    </tr>\n",
       "  </tbody>\n",
       "</table>\n",
       "</div>"
      ],
      "text/plain": [
       "        Date      Open      High       Low     Close  Adj_Close   Volume\n",
       "0  2000/3/27  3.812500  4.156250  3.812500  4.125000   4.125000  3675600\n",
       "1  2000/3/28  4.125000  4.125000  4.000000  4.015625   4.015625  1077600\n",
       "2  2000/3/29  4.000000  4.031250  3.953125  4.000000   4.000000   437200\n",
       "3  2000/3/30  4.000000  4.000000  3.843750  3.843750   3.843750  1883600\n",
       "4  2000/3/31  3.734375  3.734375  3.390625  3.390625   3.390625  7931600"
      ]
     },
     "execution_count": 4,
     "metadata": {},
     "output_type": "execute_result"
    }
   ],
   "source": [
    "df[:5]"
   ]
  },
  {
   "cell_type": "markdown",
   "metadata": {},
   "source": [
    "#### Droped columns of no use"
   ]
  },
  {
   "cell_type": "code",
   "execution_count": 5,
   "metadata": {},
   "outputs": [],
   "source": [
    "df.drop(['Date','Adj_Close'], axis=1, inplace=True)"
   ]
  },
  {
   "cell_type": "code",
   "execution_count": 6,
   "metadata": {},
   "outputs": [
    {
     "data": {
      "text/html": [
       "<div>\n",
       "<style scoped>\n",
       "    .dataframe tbody tr th:only-of-type {\n",
       "        vertical-align: middle;\n",
       "    }\n",
       "\n",
       "    .dataframe tbody tr th {\n",
       "        vertical-align: top;\n",
       "    }\n",
       "\n",
       "    .dataframe thead th {\n",
       "        text-align: right;\n",
       "    }\n",
       "</style>\n",
       "<table border=\"1\" class=\"dataframe\">\n",
       "  <thead>\n",
       "    <tr style=\"text-align: right;\">\n",
       "      <th></th>\n",
       "      <th>Open</th>\n",
       "      <th>High</th>\n",
       "      <th>Low</th>\n",
       "      <th>Close</th>\n",
       "      <th>Volume</th>\n",
       "    </tr>\n",
       "  </thead>\n",
       "  <tbody>\n",
       "    <tr>\n",
       "      <th>0</th>\n",
       "      <td>3.812500</td>\n",
       "      <td>4.156250</td>\n",
       "      <td>3.812500</td>\n",
       "      <td>4.125000</td>\n",
       "      <td>3675600</td>\n",
       "    </tr>\n",
       "    <tr>\n",
       "      <th>1</th>\n",
       "      <td>4.125000</td>\n",
       "      <td>4.125000</td>\n",
       "      <td>4.000000</td>\n",
       "      <td>4.015625</td>\n",
       "      <td>1077600</td>\n",
       "    </tr>\n",
       "    <tr>\n",
       "      <th>2</th>\n",
       "      <td>4.000000</td>\n",
       "      <td>4.031250</td>\n",
       "      <td>3.953125</td>\n",
       "      <td>4.000000</td>\n",
       "      <td>437200</td>\n",
       "    </tr>\n",
       "    <tr>\n",
       "      <th>3</th>\n",
       "      <td>4.000000</td>\n",
       "      <td>4.000000</td>\n",
       "      <td>3.843750</td>\n",
       "      <td>3.843750</td>\n",
       "      <td>1883600</td>\n",
       "    </tr>\n",
       "    <tr>\n",
       "      <th>4</th>\n",
       "      <td>3.734375</td>\n",
       "      <td>3.734375</td>\n",
       "      <td>3.390625</td>\n",
       "      <td>3.390625</td>\n",
       "      <td>7931600</td>\n",
       "    </tr>\n",
       "  </tbody>\n",
       "</table>\n",
       "</div>"
      ],
      "text/plain": [
       "       Open      High       Low     Close   Volume\n",
       "0  3.812500  4.156250  3.812500  4.125000  3675600\n",
       "1  4.125000  4.125000  4.000000  4.015625  1077600\n",
       "2  4.000000  4.031250  3.953125  4.000000   437200\n",
       "3  4.000000  4.000000  3.843750  3.843750  1883600\n",
       "4  3.734375  3.734375  3.390625  3.390625  7931600"
      ]
     },
     "execution_count": 6,
     "metadata": {},
     "output_type": "execute_result"
    }
   ],
   "source": [
    "df[:5]"
   ]
  },
  {
   "cell_type": "code",
   "execution_count": 7,
   "metadata": {},
   "outputs": [],
   "source": [
    "df = df.dropna() #drop any null value row"
   ]
  },
  {
   "cell_type": "code",
   "execution_count": 8,
   "metadata": {},
   "outputs": [
    {
     "data": {
      "text/plain": [
       "(4392, 5)"
      ]
     },
     "execution_count": 8,
     "metadata": {},
     "output_type": "execute_result"
    }
   ],
   "source": [
    "df.shape"
   ]
  },
  {
   "cell_type": "code",
   "execution_count": 9,
   "metadata": {},
   "outputs": [],
   "source": [
    "df = df.drop_duplicates(keep='first', inplace=False) #removing dulicates"
   ]
  },
  {
   "cell_type": "code",
   "execution_count": 10,
   "metadata": {},
   "outputs": [
    {
     "data": {
      "text/plain": [
       "(4392, 5)"
      ]
     },
     "execution_count": 10,
     "metadata": {},
     "output_type": "execute_result"
    }
   ],
   "source": [
    "df.shape"
   ]
  },
  {
   "cell_type": "markdown",
   "metadata": {},
   "source": [
    "#### Stored all the values of to be predicted column to a list called df_stock_close"
   ]
  },
  {
   "cell_type": "code",
   "execution_count": 11,
   "metadata": {},
   "outputs": [],
   "source": [
    "df_stock_close = df['Close'].tolist()"
   ]
  },
  {
   "cell_type": "code",
   "execution_count": 12,
   "metadata": {},
   "outputs": [
    {
     "data": {
      "text/plain": [
       "[4.125,\n",
       " 4.015625,\n",
       " 4.0,\n",
       " 3.84375,\n",
       " 3.390625,\n",
       " 3.4375,\n",
       " 3.5,\n",
       " 3.484375,\n",
       " 3.578125,\n",
       " 3.609375]"
      ]
     },
     "execution_count": 12,
     "metadata": {},
     "output_type": "execute_result"
    }
   ],
   "source": [
    "df_stock_close[:10]"
   ]
  },
  {
   "cell_type": "markdown",
   "metadata": {},
   "source": [
    "#### Normalized input feature into range from 0 to 1 with the use of predefined defination"
   ]
  },
  {
   "cell_type": "code",
   "execution_count": 13,
   "metadata": {},
   "outputs": [],
   "source": [
    "encode_numeric_range(df, 'Close')\n",
    "encode_numeric_range(df, 'Open')\n",
    "encode_numeric_range(df, 'High')\n",
    "encode_numeric_range(df, 'Low')\n",
    "encode_numeric_range(df, 'Volume')"
   ]
  },
  {
   "cell_type": "code",
   "execution_count": 14,
   "metadata": {},
   "outputs": [
    {
     "data": {
      "text/html": [
       "<div>\n",
       "<style scoped>\n",
       "    .dataframe tbody tr th:only-of-type {\n",
       "        vertical-align: middle;\n",
       "    }\n",
       "\n",
       "    .dataframe tbody tr th {\n",
       "        vertical-align: top;\n",
       "    }\n",
       "\n",
       "    .dataframe thead th {\n",
       "        text-align: right;\n",
       "    }\n",
       "</style>\n",
       "<table border=\"1\" class=\"dataframe\">\n",
       "  <thead>\n",
       "    <tr style=\"text-align: right;\">\n",
       "      <th></th>\n",
       "      <th>Open</th>\n",
       "      <th>High</th>\n",
       "      <th>Low</th>\n",
       "      <th>Close</th>\n",
       "      <th>Volume</th>\n",
       "    </tr>\n",
       "  </thead>\n",
       "  <tbody>\n",
       "    <tr>\n",
       "      <th>0</th>\n",
       "      <td>0.004378</td>\n",
       "      <td>0.006469</td>\n",
       "      <td>0.006934</td>\n",
       "      <td>0.007408</td>\n",
       "      <td>0.075401</td>\n",
       "    </tr>\n",
       "    <tr>\n",
       "      <th>1</th>\n",
       "      <td>0.007031</td>\n",
       "      <td>0.006205</td>\n",
       "      <td>0.008535</td>\n",
       "      <td>0.006482</td>\n",
       "      <td>0.019194</td>\n",
       "    </tr>\n",
       "    <tr>\n",
       "      <th>2</th>\n",
       "      <td>0.005970</td>\n",
       "      <td>0.005413</td>\n",
       "      <td>0.008135</td>\n",
       "      <td>0.006350</td>\n",
       "      <td>0.005339</td>\n",
       "    </tr>\n",
       "    <tr>\n",
       "      <th>3</th>\n",
       "      <td>0.005970</td>\n",
       "      <td>0.005149</td>\n",
       "      <td>0.007201</td>\n",
       "      <td>0.005027</td>\n",
       "      <td>0.036632</td>\n",
       "    </tr>\n",
       "    <tr>\n",
       "      <th>4</th>\n",
       "      <td>0.003714</td>\n",
       "      <td>0.002904</td>\n",
       "      <td>0.003334</td>\n",
       "      <td>0.001191</td>\n",
       "      <td>0.167478</td>\n",
       "    </tr>\n",
       "  </tbody>\n",
       "</table>\n",
       "</div>"
      ],
      "text/plain": [
       "       Open      High       Low     Close    Volume\n",
       "0  0.004378  0.006469  0.006934  0.007408  0.075401\n",
       "1  0.007031  0.006205  0.008535  0.006482  0.019194\n",
       "2  0.005970  0.005413  0.008135  0.006350  0.005339\n",
       "3  0.005970  0.005149  0.007201  0.005027  0.036632\n",
       "4  0.003714  0.002904  0.003334  0.001191  0.167478"
      ]
     },
     "execution_count": 14,
     "metadata": {},
     "output_type": "execute_result"
    }
   ],
   "source": [
    "df[:5]"
   ]
  },
  {
   "cell_type": "markdown",
   "metadata": {},
   "source": [
    "# Full-Connected Neural Network Model"
   ]
  },
  {
   "cell_type": "code",
   "execution_count": 15,
   "metadata": {},
   "outputs": [
    {
     "name": "stdout",
     "output_type": "stream",
     "text": [
      "Shape of x: (4384, 7, 5)\n",
      "Shape of y: (4384,)\n"
     ]
    }
   ],
   "source": [
    "#Preparing x and y\n",
    "SEQUENCE_SIZE = 7\n",
    "x,y = to_sequences(SEQUENCE_SIZE, df.values, df_stock_close)\n",
    "\n",
    "print(\"Shape of x: {}\".format(x.shape))\n",
    "print(\"Shape of y: {}\".format(y.shape))"
   ]
  },
  {
   "cell_type": "markdown",
   "metadata": {},
   "source": [
    "#### Reshaped input data as a 35 feature using each 7 rows and 5 columns"
   ]
  },
  {
   "cell_type": "code",
   "execution_count": 16,
   "metadata": {},
   "outputs": [],
   "source": [
    "x_NN = x.reshape(4384,7*5)\n",
    "y_NN = y"
   ]
  },
  {
   "cell_type": "code",
   "execution_count": 17,
   "metadata": {},
   "outputs": [
    {
     "data": {
      "text/plain": [
       "(4384, 35)"
      ]
     },
     "execution_count": 17,
     "metadata": {},
     "output_type": "execute_result"
    }
   ],
   "source": [
    "x_NN.shape"
   ]
  },
  {
   "cell_type": "code",
   "execution_count": 18,
   "metadata": {},
   "outputs": [
    {
     "data": {
      "text/plain": [
       "(4384,)"
      ]
     },
     "execution_count": 18,
     "metadata": {},
     "output_type": "execute_result"
    }
   ],
   "source": [
    "y_NN.shape"
   ]
  },
  {
   "cell_type": "code",
   "execution_count": 19,
   "metadata": {},
   "outputs": [],
   "source": [
    "import warnings\n",
    "warnings.filterwarnings('ignore')"
   ]
  },
  {
   "cell_type": "markdown",
   "metadata": {},
   "source": [
    "#### Split data into 70% train and 30% test using scikit learn's 'train_test_split'"
   ]
  },
  {
   "cell_type": "code",
   "execution_count": 20,
   "metadata": {},
   "outputs": [
    {
     "name": "stdout",
     "output_type": "stream",
     "text": [
      "Shape of x_train: (3068, 35)\n",
      "Shape of x_test: (1316, 35)\n",
      "Shape of y_train: (3068,)\n",
      "Shape of y_test: (1316,)\n"
     ]
    }
   ],
   "source": [
    "x_train_NN,x_test_NN,y_train_NN,y_test_NN = train_test_split(x_NN,y_NN, test_size=0.3, random_state =42)\n",
    "print(\"Shape of x_train: {}\".format(x_train_NN.shape))\n",
    "print(\"Shape of x_test: {}\".format(x_test_NN.shape))\n",
    "print(\"Shape of y_train: {}\".format(y_train_NN.shape))\n",
    "print(\"Shape of y_test: {}\".format(y_test_NN.shape))"
   ]
  },
  {
   "cell_type": "code",
   "execution_count": 21,
   "metadata": {},
   "outputs": [],
   "source": [
    "# Load modules\n",
    "import io\n",
    "import requests\n",
    "import os\n",
    "import tensorflow as tf\n",
    "from tensorflow.keras.models import Sequential\n",
    "from tensorflow.keras.layers import Dense, Activation, Dropout, Flatten, Embedding\n",
    "from tensorflow.keras.layers import LSTM\n",
    "from tensorflow.keras.layers import Conv2D, MaxPooling2D\n",
    "from tensorflow.keras.callbacks import EarlyStopping\n",
    "from tensorflow.keras.callbacks import ModelCheckpoint\n",
    "#from keras import regularizers"
   ]
  },
  {
   "cell_type": "code",
   "execution_count": 22,
   "metadata": {},
   "outputs": [
    {
     "name": "stderr",
     "output_type": "stream",
     "text": [
      "WARNING: Logging before flag parsing goes to stderr.\n",
      "W1009 16:46:39.350965  6556 deprecation.py:506] From C:\\Users\\Jeet\\Anaconda3\\lib\\site-packages\\tensorflow\\python\\ops\\init_ops.py:1251: calling VarianceScaling.__init__ (from tensorflow.python.ops.init_ops) with dtype is deprecated and will be removed in a future version.\n",
      "Instructions for updating:\n",
      "Call initializer instance with the dtype argument instead of passing it to the constructor\n"
     ]
    },
    {
     "name": "stdout",
     "output_type": "stream",
     "text": [
      "0\n",
      "Train on 3068 samples, validate on 1316 samples\n",
      "Epoch 1/1000\n",
      "3068/3068 - 1s - loss: 596.6123 - val_loss: 2.9708\n",
      "Epoch 2/1000\n",
      "3068/3068 - 0s - loss: 22.5386 - val_loss: 1.9400\n",
      "Epoch 3/1000\n",
      "3068/3068 - 0s - loss: 21.2036 - val_loss: 2.1922\n",
      "Epoch 4/1000\n",
      "3068/3068 - 0s - loss: 21.1316 - val_loss: 1.9921\n",
      "Epoch 5/1000\n",
      "3068/3068 - 0s - loss: 20.5363 - val_loss: 3.4314\n",
      "Epoch 6/1000\n",
      "3068/3068 - 0s - loss: 20.8972 - val_loss: 1.8430\n",
      "Epoch 7/1000\n",
      "3068/3068 - 0s - loss: 18.9629 - val_loss: 3.6060\n",
      "Epoch 8/1000\n",
      "3068/3068 - 0s - loss: 19.8714 - val_loss: 1.9020\n",
      "Epoch 9/1000\n",
      "3068/3068 - 0s - loss: 16.6408 - val_loss: 3.4098\n",
      "Epoch 10/1000\n",
      "3068/3068 - 0s - loss: 17.7444 - val_loss: 8.3422\n",
      "Epoch 11/1000\n",
      "3068/3068 - 0s - loss: 19.0748 - val_loss: 1.9724\n",
      "Epoch 00011: early stopping\n",
      "1\n",
      "Train on 3068 samples, validate on 1316 samples\n",
      "Epoch 1/1000\n",
      "3068/3068 - 1s - loss: 506.2125 - val_loss: 5.2352\n",
      "Epoch 2/1000\n",
      "3068/3068 - 0s - loss: 18.1533 - val_loss: 2.4664\n",
      "Epoch 3/1000\n",
      "3068/3068 - 0s - loss: 20.8588 - val_loss: 2.6654\n",
      "Epoch 4/1000\n",
      "3068/3068 - 0s - loss: 17.3197 - val_loss: 2.0066\n",
      "Epoch 5/1000\n",
      "3068/3068 - 0s - loss: 17.2951 - val_loss: 2.3309\n",
      "Epoch 6/1000\n",
      "3068/3068 - 0s - loss: 16.3662 - val_loss: 3.2023\n",
      "Epoch 7/1000\n",
      "3068/3068 - 0s - loss: 16.4118 - val_loss: 2.0629\n",
      "Epoch 8/1000\n",
      "3068/3068 - 0s - loss: 20.0800 - val_loss: 5.7273\n",
      "Epoch 9/1000\n",
      "3068/3068 - 0s - loss: 15.9630 - val_loss: 3.4021\n",
      "Epoch 00009: early stopping\n",
      "2\n",
      "Train on 3068 samples, validate on 1316 samples\n",
      "Epoch 1/1000\n",
      "3068/3068 - 1s - loss: 664.3455 - val_loss: 4.8641\n",
      "Epoch 2/1000\n",
      "3068/3068 - 0s - loss: 25.0914 - val_loss: 4.2932\n",
      "Epoch 3/1000\n",
      "3068/3068 - 1s - loss: 23.9208 - val_loss: 1.8403\n",
      "Epoch 4/1000\n",
      "3068/3068 - 1s - loss: 23.1641 - val_loss: 5.8560\n",
      "Epoch 5/1000\n",
      "3068/3068 - 0s - loss: 22.1520 - val_loss: 2.5257\n",
      "Epoch 6/1000\n",
      "3068/3068 - 0s - loss: 20.4985 - val_loss: 6.0294\n",
      "Epoch 7/1000\n",
      "3068/3068 - 0s - loss: 19.0119 - val_loss: 2.0569\n",
      "Epoch 8/1000\n",
      "3068/3068 - 0s - loss: 17.0431 - val_loss: 2.1006\n",
      "Epoch 00008: early stopping\n",
      "3\n",
      "Train on 3068 samples, validate on 1316 samples\n",
      "Epoch 1/1000\n",
      "3068/3068 - 1s - loss: 549.9568 - val_loss: 3.2969\n",
      "Epoch 2/1000\n",
      "3068/3068 - 0s - loss: 23.2083 - val_loss: 2.4912\n",
      "Epoch 3/1000\n",
      "3068/3068 - 1s - loss: 21.4109 - val_loss: 1.7907\n",
      "Epoch 4/1000\n",
      "3068/3068 - 0s - loss: 24.0267 - val_loss: 3.0475\n",
      "Epoch 5/1000\n",
      "3068/3068 - 0s - loss: 22.7447 - val_loss: 1.9718\n",
      "Epoch 6/1000\n",
      "3068/3068 - 0s - loss: 18.3641 - val_loss: 1.9889\n",
      "Epoch 7/1000\n",
      "3068/3068 - 0s - loss: 19.7450 - val_loss: 2.4135\n",
      "Epoch 8/1000\n",
      "3068/3068 - 0s - loss: 16.8743 - val_loss: 4.4139\n",
      "Epoch 00008: early stopping\n",
      "4\n",
      "Train on 3068 samples, validate on 1316 samples\n",
      "Epoch 1/1000\n",
      "3068/3068 - 1s - loss: 689.3535 - val_loss: 4.8756\n",
      "Epoch 2/1000\n",
      "3068/3068 - 0s - loss: 24.6902 - val_loss: 2.1598\n",
      "Epoch 3/1000\n",
      "3068/3068 - 0s - loss: 20.6797 - val_loss: 4.6075\n",
      "Epoch 4/1000\n",
      "3068/3068 - 0s - loss: 21.6329 - val_loss: 3.2208\n",
      "Epoch 5/1000\n",
      "3068/3068 - 0s - loss: 22.4182 - val_loss: 1.8666\n",
      "Epoch 6/1000\n",
      "3068/3068 - 0s - loss: 18.8945 - val_loss: 1.9145\n",
      "Epoch 7/1000\n",
      "3068/3068 - 0s - loss: 19.9214 - val_loss: 4.9753\n",
      "Epoch 8/1000\n",
      "3068/3068 - 0s - loss: 19.9768 - val_loss: 1.8271\n",
      "Epoch 9/1000\n",
      "3068/3068 - 0s - loss: 18.4122 - val_loss: 1.8554\n",
      "Epoch 10/1000\n",
      "3068/3068 - 0s - loss: 16.7835 - val_loss: 1.9865\n",
      "Epoch 11/1000\n",
      "3068/3068 - 0s - loss: 17.8154 - val_loss: 1.9464\n",
      "Epoch 12/1000\n",
      "3068/3068 - 0s - loss: 19.3891 - val_loss: 1.9676\n",
      "Epoch 13/1000\n",
      "3068/3068 - 1s - loss: 17.2508 - val_loss: 1.9847\n",
      "Epoch 00013: early stopping\n"
     ]
    }
   ],
   "source": [
    "save_path = \"./dnn/\"\n",
    "\n",
    "checkpointer = ModelCheckpoint(filepath=\"dnn/best_weights_NN.hdf5\", verbose=0, save_best_only=True) # save best model\n",
    "\n",
    "for i in range(5):\n",
    "    print(i)\n",
    "    model = Sequential()\n",
    "    \n",
    "    model.add(Dense(150,input_dim=x_train_NN.shape[1], activation='relu'))   # hidden 1 \n",
    "    model.add(Dropout(0.10))\n",
    "    model.add(Dense(100,activation='relu')) # Hidden 2\n",
    "    model.add(Dropout(0.10))\n",
    "    model.add(Dense(50,activation='relu'))\n",
    "    model.add(Dropout(0.10))\n",
    "    model.add(Dense(1)) # Output\n",
    "    \n",
    "    model.compile(loss='mean_squared_error', optimizer='adam')\n",
    "\n",
    "    monitor = EarlyStopping(monitor='val_loss', min_delta=1e-4, patience=5, verbose=1, mode='auto')\n",
    "\n",
    "    model.fit(x_train_NN,y_train_NN,validation_data=(x_test_NN,y_test_NN),callbacks=[monitor,checkpointer],verbose=2,epochs=1000)\n"
   ]
  },
  {
   "cell_type": "code",
   "execution_count": 23,
   "metadata": {},
   "outputs": [
    {
     "name": "stdout",
     "output_type": "stream",
     "text": [
      "RMSE         : 1.3381664680931495\n",
      "MSE          : 1.7906894963288942\n",
      "R2 score     : 0.9978600925209185\n"
     ]
    }
   ],
   "source": [
    "from sklearn import metrics\n",
    "from sklearn.metrics import r2_score\n",
    "\n",
    "model.load_weights('dnn/best_weights_NN.hdf5')\n",
    "neural_pred = model.predict(x_test_NN)\n",
    "\n",
    "score = np.sqrt(metrics.mean_squared_error(y_test_NN,neural_pred)) \n",
    "\n",
    "print(\"RMSE         : {}\".format(score))\n",
    "print(\"MSE          :\", metrics.mean_squared_error(y_test_NN, neural_pred))\n",
    "print(\"R2 score     :\",metrics.r2_score(y_test_NN,neural_pred))"
   ]
  },
  {
   "cell_type": "code",
   "execution_count": 24,
   "metadata": {},
   "outputs": [
    {
     "data": {
      "image/png": "[encoded data removed]",
      "text/plain": [
       "<Figure size 432x288 with 1 Axes>"
      ]
     },
     "metadata": {
      "needs_background": "light"
     },
     "output_type": "display_data"
    }
   ],
   "source": [
    "chart_regression(neural_pred.flatten(),y_test_NN)"
   ]
  },
  {
   "cell_type": "code",
   "execution_count": 25,
   "metadata": {},
   "outputs": [
    {
     "data": {
      "image/png": "[encoded data removed]",
      "text/plain": [
       "<Figure size 432x288 with 1 Axes>"
      ]
     },
     "metadata": {
      "needs_background": "light"
     },
     "output_type": "display_data"
    }
   ],
   "source": [
    "chart_regression(neural_pred.flatten(),y_test_NN,sort=False)"
   ]
  },
  {
   "cell_type": "markdown",
   "metadata": {},
   "source": [
    "# LSTM"
   ]
  },
  {
   "cell_type": "markdown",
   "metadata": {},
   "source": [
    "#### Each record is a sequence of 7 vectors and each vector with 5 dimensions and then split data into train and test"
   ]
  },
  {
   "cell_type": "code",
   "execution_count": 26,
   "metadata": {},
   "outputs": [
    {
     "name": "stdout",
     "output_type": "stream",
     "text": [
      "Shape of x_train: (3068, 7, 5)\n",
      "Shape of x_test: (1316, 7, 5)\n",
      "Shape of y_train: (3068,)\n",
      "Shape of y_test: (1316,)\n"
     ]
    }
   ],
   "source": [
    "x_train_lstm,x_test_lstm,y_train_lstm,y_test_lstm = train_test_split(x,y, test_size=0.3, random_state =42)\n",
    "print(\"Shape of x_train: {}\".format(x_train_lstm.shape))\n",
    "print(\"Shape of x_test: {}\".format(x_test_lstm.shape))\n",
    "print(\"Shape of y_train: {}\".format(y_train_lstm.shape))\n",
    "print(\"Shape of y_test: {}\".format(y_test_lstm.shape))"
   ]
  },
  {
   "cell_type": "code",
   "execution_count": 27,
   "metadata": {},
   "outputs": [
    {
     "name": "stdout",
     "output_type": "stream",
     "text": [
      "0\n",
      "Build model...\n"
     ]
    },
    {
     "name": "stderr",
     "output_type": "stream",
     "text": [
      "W1009 16:47:37.220145  6556 deprecation.py:323] From C:\\Users\\Jeet\\Anaconda3\\lib\\site-packages\\tensorflow\\python\\ops\\math_grad.py:1250: add_dispatch_support.<locals>.wrapper (from tensorflow.python.ops.array_ops) is deprecated and will be removed in a future version.\n",
      "Instructions for updating:\n",
      "Use tf.where in 2.0, which has the same broadcast rule as np.where\n"
     ]
    },
    {
     "name": "stdout",
     "output_type": "stream",
     "text": [
      "Train...\n",
      "Train on 3068 samples, validate on 1316 samples\n",
      "Epoch 1/1000\n",
      "3068/3068 - 5s - loss: 598.9823 - val_loss: 17.2369\n",
      "Epoch 2/1000\n",
      "3068/3068 - 2s - loss: 41.1422 - val_loss: 5.9252\n",
      "Epoch 3/1000\n",
      "3068/3068 - 2s - loss: 32.5728 - val_loss: 4.0566\n",
      "Epoch 4/1000\n",
      "3068/3068 - 2s - loss: 26.1121 - val_loss: 7.7658\n",
      "Epoch 5/1000\n",
      "3068/3068 - 2s - loss: 28.8099 - val_loss: 4.2974\n",
      "Epoch 6/1000\n",
      "3068/3068 - 2s - loss: 25.2148 - val_loss: 2.5564\n",
      "Epoch 7/1000\n",
      "3068/3068 - 2s - loss: 24.5679 - val_loss: 2.4221\n",
      "Epoch 8/1000\n",
      "3068/3068 - 3s - loss: 20.6305 - val_loss: 3.6709\n",
      "Epoch 9/1000\n",
      "3068/3068 - 2s - loss: 21.8960 - val_loss: 2.5928\n",
      "Epoch 10/1000\n",
      "3068/3068 - 2s - loss: 20.7886 - val_loss: 5.0581\n",
      "Epoch 11/1000\n",
      "3068/3068 - 3s - loss: 21.2693 - val_loss: 3.3818\n",
      "Epoch 12/1000\n",
      "3068/3068 - 3s - loss: 20.6194 - val_loss: 3.0939\n",
      "Epoch 00012: early stopping\n",
      "1\n",
      "Build model...\n",
      "Train...\n",
      "Train on 3068 samples, validate on 1316 samples\n",
      "Epoch 1/1000\n",
      "3068/3068 - 4s - loss: 652.5852 - val_loss: 20.2440\n",
      "Epoch 2/1000\n",
      "3068/3068 - 2s - loss: 39.7242 - val_loss: 5.3483\n",
      "Epoch 3/1000\n",
      "3068/3068 - 2s - loss: 39.2830 - val_loss: 4.6182\n",
      "Epoch 4/1000\n",
      "3068/3068 - 2s - loss: 33.8948 - val_loss: 5.0775\n",
      "Epoch 5/1000\n",
      "3068/3068 - 2s - loss: 28.6246 - val_loss: 13.3667\n",
      "Epoch 6/1000\n",
      "3068/3068 - 2s - loss: 26.0224 - val_loss: 12.0411\n",
      "Epoch 7/1000\n",
      "3068/3068 - 2s - loss: 26.8864 - val_loss: 9.0933\n",
      "Epoch 8/1000\n",
      "3068/3068 - 3s - loss: 24.3835 - val_loss: 3.0025\n",
      "Epoch 9/1000\n",
      "3068/3068 - 2s - loss: 21.2942 - val_loss: 3.5666\n",
      "Epoch 10/1000\n",
      "3068/3068 - 3s - loss: 24.2318 - val_loss: 2.3387\n",
      "Epoch 11/1000\n",
      "3068/3068 - 2s - loss: 20.8533 - val_loss: 4.3773\n",
      "Epoch 12/1000\n",
      "3068/3068 - 2s - loss: 19.9023 - val_loss: 2.3943\n",
      "Epoch 13/1000\n",
      "3068/3068 - 2s - loss: 20.6381 - val_loss: 2.6218\n",
      "Epoch 14/1000\n",
      "3068/3068 - 2s - loss: 18.6738 - val_loss: 2.7016\n",
      "Epoch 15/1000\n",
      "3068/3068 - 2s - loss: 19.1311 - val_loss: 1.9292\n",
      "Epoch 16/1000\n",
      "3068/3068 - 2s - loss: 20.2767 - val_loss: 3.8332\n",
      "Epoch 17/1000\n",
      "3068/3068 - 2s - loss: 18.4382 - val_loss: 6.8387\n",
      "Epoch 18/1000\n",
      "3068/3068 - 2s - loss: 17.1991 - val_loss: 2.1784\n",
      "Epoch 19/1000\n",
      "3068/3068 - 2s - loss: 17.1566 - val_loss: 8.3800\n",
      "Epoch 20/1000\n",
      "3068/3068 - 2s - loss: 17.6922 - val_loss: 5.7312\n",
      "Epoch 00020: early stopping\n",
      "2\n",
      "Build model...\n",
      "Train...\n",
      "Train on 3068 samples, validate on 1316 samples\n",
      "Epoch 1/1000\n",
      "3068/3068 - 4s - loss: 685.0378 - val_loss: 22.3077\n",
      "Epoch 2/1000\n",
      "3068/3068 - 2s - loss: 40.4540 - val_loss: 5.6898\n",
      "Epoch 3/1000\n",
      "3068/3068 - 2s - loss: 31.8109 - val_loss: 4.0145\n",
      "Epoch 4/1000\n",
      "3068/3068 - 2s - loss: 32.8244 - val_loss: 16.0388\n",
      "Epoch 5/1000\n",
      "3068/3068 - 2s - loss: 28.6551 - val_loss: 3.0404\n",
      "Epoch 6/1000\n",
      "3068/3068 - 3s - loss: 24.2920 - val_loss: 10.3406\n",
      "Epoch 7/1000\n",
      "3068/3068 - 3s - loss: 26.4168 - val_loss: 5.3188\n",
      "Epoch 8/1000\n",
      "3068/3068 - 3s - loss: 24.5483 - val_loss: 10.2032\n",
      "Epoch 9/1000\n",
      "3068/3068 - 2s - loss: 21.5589 - val_loss: 2.3575\n",
      "Epoch 10/1000\n",
      "3068/3068 - 2s - loss: 23.4922 - val_loss: 3.2288\n",
      "Epoch 11/1000\n",
      "3068/3068 - 2s - loss: 18.7086 - val_loss: 3.9933\n",
      "Epoch 12/1000\n",
      "3068/3068 - 4s - loss: 22.1730 - val_loss: 7.7423\n",
      "Epoch 13/1000\n",
      "3068/3068 - 3s - loss: 20.1720 - val_loss: 2.8104\n",
      "Epoch 14/1000\n",
      "3068/3068 - 3s - loss: 18.0158 - val_loss: 5.1862\n",
      "Epoch 00014: early stopping\n",
      "3\n",
      "Build model...\n",
      "Train...\n",
      "Train on 3068 samples, validate on 1316 samples\n",
      "Epoch 1/1000\n",
      "3068/3068 - 4s - loss: 626.3701 - val_loss: 17.0375\n",
      "Epoch 2/1000\n",
      "3068/3068 - 2s - loss: 40.3420 - val_loss: 5.2912\n",
      "Epoch 3/1000\n",
      "3068/3068 - 2s - loss: 35.5853 - val_loss: 8.5982\n",
      "Epoch 4/1000\n",
      "3068/3068 - 2s - loss: 27.7292 - val_loss: 6.3967\n",
      "Epoch 5/1000\n",
      "3068/3068 - 3s - loss: 25.4904 - val_loss: 8.3158\n",
      "Epoch 6/1000\n",
      "3068/3068 - 2s - loss: 27.9291 - val_loss: 4.2913\n",
      "Epoch 7/1000\n",
      "3068/3068 - 2s - loss: 23.8946 - val_loss: 2.8016\n",
      "Epoch 8/1000\n",
      "3068/3068 - 2s - loss: 26.7619 - val_loss: 3.5568\n",
      "Epoch 9/1000\n",
      "3068/3068 - 2s - loss: 18.3687 - val_loss: 3.0304\n",
      "Epoch 10/1000\n",
      "3068/3068 - 2s - loss: 18.4893 - val_loss: 2.7988\n",
      "Epoch 11/1000\n",
      "3068/3068 - 2s - loss: 20.1968 - val_loss: 3.4188\n",
      "Epoch 12/1000\n",
      "3068/3068 - 2s - loss: 19.6174 - val_loss: 3.7527\n",
      "Epoch 13/1000\n",
      "3068/3068 - 3s - loss: 19.4653 - val_loss: 3.0231\n",
      "Epoch 14/1000\n",
      "3068/3068 - 2s - loss: 22.0457 - val_loss: 3.0511\n",
      "Epoch 15/1000\n",
      "3068/3068 - 2s - loss: 17.4736 - val_loss: 5.9428\n",
      "Epoch 00015: early stopping\n",
      "4\n",
      "Build model...\n",
      "Train...\n",
      "Train on 3068 samples, validate on 1316 samples\n",
      "Epoch 1/1000\n",
      "3068/3068 - 4s - loss: 665.8732 - val_loss: 24.3743\n",
      "Epoch 2/1000\n",
      "3068/3068 - 2s - loss: 40.4245 - val_loss: 6.4961\n",
      "Epoch 3/1000\n",
      "3068/3068 - 3s - loss: 32.8201 - val_loss: 4.4976\n",
      "Epoch 4/1000\n",
      "3068/3068 - 2s - loss: 30.0894 - val_loss: 3.8088\n",
      "Epoch 5/1000\n",
      "3068/3068 - 2s - loss: 25.5297 - val_loss: 3.0996\n",
      "Epoch 6/1000\n",
      "3068/3068 - 2s - loss: 24.3834 - val_loss: 5.3810\n",
      "Epoch 7/1000\n",
      "3068/3068 - 2s - loss: 27.2452 - val_loss: 2.3517\n",
      "Epoch 8/1000\n",
      "3068/3068 - 2s - loss: 20.7658 - val_loss: 2.3671\n",
      "Epoch 9/1000\n",
      "3068/3068 - 2s - loss: 21.3684 - val_loss: 5.1921\n",
      "Epoch 10/1000\n",
      "3068/3068 - 2s - loss: 21.2203 - val_loss: 2.7942\n",
      "Epoch 11/1000\n",
      "3068/3068 - 3s - loss: 18.5659 - val_loss: 2.2164\n",
      "Epoch 12/1000\n",
      "3068/3068 - 2s - loss: 19.8688 - val_loss: 3.5547\n",
      "Epoch 13/1000\n",
      "3068/3068 - 2s - loss: 18.9848 - val_loss: 4.3314\n",
      "Epoch 14/1000\n",
      "3068/3068 - 2s - loss: 21.4186 - val_loss: 5.7705\n",
      "Epoch 15/1000\n",
      "3068/3068 - 2s - loss: 18.9230 - val_loss: 2.2939\n",
      "Epoch 16/1000\n",
      "3068/3068 - 2s - loss: 19.5654 - val_loss: 6.0113\n",
      "Epoch 00016: early stopping\n"
     ]
    }
   ],
   "source": [
    "#checkpointer\n",
    "checkpointer = ModelCheckpoint(filepath=\"best_weights_lstm.hdf5\", verbose=0, save_best_only=True) # save best model\n",
    "for i in range(5):\n",
    "    print(i)    \n",
    "    print('Build model...')\n",
    "    model = Sequential()\n",
    "    model.add(LSTM(100, dropout=0.1, recurrent_dropout=0.1,input_shape=(7, 5)))\n",
    "    model.add(Dense(50))\n",
    "    model.add(Dense(1))\n",
    "    model.compile(loss='mean_squared_error', optimizer='adam')\n",
    "    monitor = EarlyStopping(monitor='val_loss', min_delta=1e-3, patience=5, verbose=1, mode='auto')\n",
    "    print('Train...')\n",
    "    model.fit(x_train_lstm,y_train_lstm,validation_data=(x_test_lstm,y_test_lstm),callbacks=[monitor,checkpointer],verbose=2, epochs=1000) \n"
   ]
  },
  {
   "cell_type": "code",
   "execution_count": 28,
   "metadata": {},
   "outputs": [
    {
     "name": "stdout",
     "output_type": "stream",
     "text": [
      "RMSE         : 1.3889606834667212\n",
      "MSE          : 1.929211780216341\n",
      "R2 score     : 0.9976945557978194\n"
     ]
    },
    {
     "data": {
      "image/png": "[encoded data removed]",
      "text/plain": [
       "<Figure size 432x288 with 1 Axes>"
      ]
     },
     "metadata": {
      "needs_background": "light"
     },
     "output_type": "display_data"
    }
   ],
   "source": [
    "model.load_weights('best_weights_lstm.hdf5')\n",
    "pred = model.predict(x_test_lstm)\n",
    "score = np.sqrt(metrics.mean_squared_error(pred,y_test_lstm))\n",
    "print(\"RMSE         : {}\".format(score))\n",
    "print(\"MSE          :\", metrics.mean_squared_error(y_test_lstm, pred))\n",
    "print(\"R2 score     :\",metrics.r2_score(y_test_lstm,pred))\n",
    "# Plot the chart\n",
    "chart_regression(pred.flatten(),y_test_lstm)"
   ]
  },
  {
   "cell_type": "code",
   "execution_count": 29,
   "metadata": {},
   "outputs": [
    {
     "data": {
      "image/png": "[encoded data removed]",
      "text/plain": [
       "<Figure size 432x288 with 1 Axes>"
      ]
     },
     "metadata": {
      "needs_background": "light"
     },
     "output_type": "display_data"
    }
   ],
   "source": [
    "chart_regression(pred.flatten(),y_test_lstm,sort=False)"
   ]
  },
  {
   "cell_type": "markdown",
   "metadata": {},
   "source": [
    "# CNN "
   ]
  },
  {
   "cell_type": "markdown",
   "metadata": {},
   "source": [
    "#### Each record viewed as an image that has 7 pixels and each pixel with 5 channels."
   ]
  },
  {
   "cell_type": "code",
   "execution_count": 30,
   "metadata": {},
   "outputs": [
    {
     "name": "stdout",
     "output_type": "stream",
     "text": [
      "Shape of x: (4384, 7, 1, 5)\n",
      "Shape of y: (4384,)\n"
     ]
    }
   ],
   "source": [
    "#Preparing x and y\n",
    "SEQUENCE_SIZE = 7\n",
    "x_cnn,y_cnn = to_sequences_cnn(SEQUENCE_SIZE, df.values, df_stock_close)\n",
    "#x_test,y_test = to_sequences(SEQUENCE_SIZE, df_test, close_test)\n",
    "\n",
    "print(\"Shape of x: {}\".format(x_cnn.shape))\n",
    "print(\"Shape of y: {}\".format(y_cnn.shape))"
   ]
  },
  {
   "cell_type": "markdown",
   "metadata": {},
   "source": [
    "#### Reshaped data into 7 pixels with 5 channels"
   ]
  },
  {
   "cell_type": "code",
   "execution_count": 31,
   "metadata": {},
   "outputs": [],
   "source": [
    "x_cnn = x.reshape(4384,1,7,5)\n",
    "y_cnn = y"
   ]
  },
  {
   "cell_type": "markdown",
   "metadata": {},
   "source": [
    "#### Split data into train and test."
   ]
  },
  {
   "cell_type": "code",
   "execution_count": 32,
   "metadata": {},
   "outputs": [
    {
     "name": "stdout",
     "output_type": "stream",
     "text": [
      "Shape of x_train: (3068, 1, 7, 5)\n",
      "Shape of x_test: (1316, 1, 7, 5)\n",
      "Shape of y_train: (3068,)\n",
      "Shape of y_test: (1316,)\n"
     ]
    }
   ],
   "source": [
    "x_train_cnn,x_test_cnn,y_train_cnn,y_test_cnn = train_test_split(x_cnn,y_cnn, test_size=0.3, random_state =42)\n",
    "print(\"Shape of x_train: {}\".format(x_train_cnn.shape))\n",
    "print(\"Shape of x_test: {}\".format(x_test_cnn.shape))\n",
    "print(\"Shape of y_train: {}\".format(y_train_cnn.shape))\n",
    "print(\"Shape of y_test: {}\".format(y_test_cnn.shape))"
   ]
  },
  {
   "cell_type": "code",
   "execution_count": 33,
   "metadata": {},
   "outputs": [],
   "source": [
    "# Load modules\n",
    "import tensorflow as tf\n",
    "from tensorflow.keras.models import Sequential\n",
    "from tensorflow.keras.layers import Dense, Dropout, Flatten\n",
    "from tensorflow.keras.layers import Conv2D, MaxPooling2D\n",
    "from tensorflow.keras.callbacks import EarlyStopping\n",
    "from tensorflow.keras.callbacks import ModelCheckpoint\n",
    "#from keras import regularizers"
   ]
  },
  {
   "cell_type": "code",
   "execution_count": 34,
   "metadata": {},
   "outputs": [
    {
     "name": "stdout",
     "output_type": "stream",
     "text": [
      "Model: \"sequential_10\"\n",
      "_________________________________________________________________\n",
      "Layer (type)                 Output Shape              Param #   \n",
      "=================================================================\n",
      "conv2d (Conv2D)              (None, 1, 7, 32)          1472      \n",
      "_________________________________________________________________\n",
      "max_pooling2d (MaxPooling2D) (None, 1, 4, 32)          0         \n",
      "_________________________________________________________________\n",
      "conv2d_1 (Conv2D)            (None, 1, 4, 64)          18496     \n",
      "_________________________________________________________________\n",
      "max_pooling2d_1 (MaxPooling2 (None, 1, 2, 64)          0         \n",
      "_________________________________________________________________\n",
      "conv2d_2 (Conv2D)            (None, 1, 2, 128)         73856     \n",
      "_________________________________________________________________\n",
      "max_pooling2d_2 (MaxPooling2 (None, 1, 1, 128)         0         \n",
      "_________________________________________________________________\n",
      "conv2d_3 (Conv2D)            (None, 1, 1, 256)         295168    \n",
      "_________________________________________________________________\n",
      "max_pooling2d_3 (MaxPooling2 (None, 1, 1, 256)         0         \n",
      "_________________________________________________________________\n",
      "flatten (Flatten)            (None, 256)               0         \n",
      "_________________________________________________________________\n",
      "dense_30 (Dense)             (None, 500)               128500    \n",
      "_________________________________________________________________\n",
      "dropout_15 (Dropout)         (None, 500)               0         \n",
      "_________________________________________________________________\n",
      "dense_31 (Dense)             (None, 1)                 501       \n",
      "=================================================================\n",
      "Total params: 517,993\n",
      "Trainable params: 517,993\n",
      "Non-trainable params: 0\n",
      "_________________________________________________________________\n"
     ]
    }
   ],
   "source": [
    "cnn_model = Sequential()\n",
    "cnn_model.add(Conv2D(32, kernel_size=(3, 3), strides=(1, 1),activation='relu',input_shape=(1,7,5),padding='same'))\n",
    "cnn_model.add(MaxPooling2D(pool_size=(2, 2),padding='same'))\n",
    "cnn_model.add(Conv2D(64, kernel_size=(3, 3), strides=(1, 1),activation='relu',padding='same'))\n",
    "cnn_model.add(MaxPooling2D(pool_size=(2, 2),padding='same'))\n",
    "cnn_model.add(Conv2D(128,kernel_size=(3, 3), strides=(1, 1),activation='relu',padding='same'))\n",
    "cnn_model.add(MaxPooling2D(pool_size=(2, 2),padding='same'))\n",
    "cnn_model.add(Conv2D(256,kernel_size=(3, 3), strides=(1, 1),activation='relu',padding='same'))\n",
    "cnn_model.add(MaxPooling2D(pool_size=(2, 2),padding='same'))\n",
    "cnn_model.add(Flatten())\n",
    "cnn_model.add(Dense(500, activation='relu'))\n",
    "cnn_model.add(Dropout(0.20))\n",
    "cnn_model.add(Dense(1))\n",
    "cnn_model.summary()"
   ]
  },
  {
   "cell_type": "code",
   "execution_count": 35,
   "metadata": {},
   "outputs": [
    {
     "name": "stdout",
     "output_type": "stream",
     "text": [
      "0\n",
      "Train on 3068 samples, validate on 1316 samples\n",
      "Epoch 1/1000\n",
      "3068/3068 - 4s - loss: 808.1213 - val_loss: 65.0975\n",
      "Epoch 2/1000\n",
      "3068/3068 - 1s - loss: 18.9038 - val_loss: 2.4161\n",
      "Epoch 3/1000\n",
      "3068/3068 - 1s - loss: 5.2048 - val_loss: 2.1002\n",
      "Epoch 4/1000\n",
      "3068/3068 - 2s - loss: 5.1680 - val_loss: 1.9315\n",
      "Epoch 5/1000\n",
      "3068/3068 - 1s - loss: 5.5128 - val_loss: 1.9210\n",
      "Epoch 6/1000\n",
      "3068/3068 - 1s - loss: 5.3382 - val_loss: 3.7858\n",
      "Epoch 7/1000\n",
      "3068/3068 - 1s - loss: 5.0072 - val_loss: 1.9034\n",
      "Epoch 8/1000\n",
      "3068/3068 - 1s - loss: 5.6030 - val_loss: 1.8526\n",
      "Epoch 9/1000\n",
      "3068/3068 - 1s - loss: 5.0451 - val_loss: 1.9706\n",
      "Epoch 10/1000\n",
      "3068/3068 - 1s - loss: 5.3848 - val_loss: 2.3661\n",
      "Epoch 11/1000\n",
      "3068/3068 - 1s - loss: 6.2056 - val_loss: 2.8583\n",
      "Epoch 12/1000\n",
      "3068/3068 - 1s - loss: 5.6833 - val_loss: 1.8732\n",
      "Epoch 13/1000\n",
      "3068/3068 - 1s - loss: 4.8083 - val_loss: 4.0569\n",
      "Epoch 00013: early stopping\n",
      "1\n",
      "Train on 3068 samples, validate on 1316 samples\n",
      "Epoch 1/1000\n",
      "3068/3068 - 3s - loss: 12.3760 - val_loss: 2.0085\n",
      "Epoch 2/1000\n",
      "3068/3068 - 1s - loss: 5.3314 - val_loss: 5.6342\n",
      "Epoch 3/1000\n",
      "3068/3068 - 1s - loss: 6.3202 - val_loss: 3.4872\n",
      "Epoch 4/1000\n",
      "3068/3068 - 1s - loss: 5.3746 - val_loss: 2.0689\n",
      "Epoch 5/1000\n",
      "3068/3068 - 1s - loss: 5.5715 - val_loss: 2.7752\n",
      "Epoch 6/1000\n",
      "3068/3068 - 1s - loss: 5.2387 - val_loss: 1.8722\n",
      "Epoch 7/1000\n",
      "3068/3068 - 1s - loss: 4.8893 - val_loss: 2.0194\n",
      "Epoch 8/1000\n",
      "3068/3068 - 1s - loss: 5.3443 - val_loss: 2.0056\n",
      "Epoch 9/1000\n",
      "3068/3068 - 1s - loss: 6.2827 - val_loss: 2.2608\n",
      "Epoch 10/1000\n",
      "3068/3068 - 1s - loss: 5.2275 - val_loss: 3.7675\n",
      "Epoch 11/1000\n",
      "3068/3068 - 1s - loss: 5.3748 - val_loss: 1.9973\n",
      "Epoch 00011: early stopping\n",
      "2\n",
      "Train on 3068 samples, validate on 1316 samples\n",
      "Epoch 1/1000\n",
      "3068/3068 - 3s - loss: 7.3572 - val_loss: 2.2929\n",
      "Epoch 2/1000\n",
      "3068/3068 - 1s - loss: 4.6850 - val_loss: 2.9065\n",
      "Epoch 3/1000\n",
      "3068/3068 - 1s - loss: 5.2975 - val_loss: 2.4379\n",
      "Epoch 4/1000\n",
      "3068/3068 - 1s - loss: 4.9204 - val_loss: 3.3120\n",
      "Epoch 5/1000\n",
      "3068/3068 - 1s - loss: 4.5483 - val_loss: 2.1358\n",
      "Epoch 6/1000\n",
      "3068/3068 - 1s - loss: 4.2735 - val_loss: 2.5618\n",
      "Epoch 7/1000\n",
      "3068/3068 - 1s - loss: 6.5071 - val_loss: 2.5799\n",
      "Epoch 8/1000\n",
      "3068/3068 - 2s - loss: 4.2193 - val_loss: 1.8401\n",
      "Epoch 9/1000\n",
      "3068/3068 - 1s - loss: 4.6615 - val_loss: 2.7272\n",
      "Epoch 10/1000\n",
      "3068/3068 - 1s - loss: 4.5641 - val_loss: 1.6283\n",
      "Epoch 11/1000\n",
      "3068/3068 - 1s - loss: 4.6381 - val_loss: 2.5194\n",
      "Epoch 12/1000\n",
      "3068/3068 - 1s - loss: 4.5457 - val_loss: 1.7286\n",
      "Epoch 13/1000\n",
      "3068/3068 - 1s - loss: 4.7297 - val_loss: 2.1413\n",
      "Epoch 14/1000\n",
      "3068/3068 - 1s - loss: 4.1949 - val_loss: 1.8591\n",
      "Epoch 15/1000\n",
      "3068/3068 - 1s - loss: 4.7580 - val_loss: 4.8564\n",
      "Epoch 00015: early stopping\n",
      "3\n",
      "Train on 3068 samples, validate on 1316 samples\n",
      "Epoch 1/1000\n",
      "3068/3068 - 3s - loss: 7.1683 - val_loss: 1.9863\n",
      "Epoch 2/1000\n",
      "3068/3068 - 1s - loss: 4.1602 - val_loss: 2.7971\n",
      "Epoch 3/1000\n",
      "3068/3068 - 1s - loss: 4.6677 - val_loss: 2.1746\n",
      "Epoch 4/1000\n",
      "3068/3068 - 1s - loss: 4.2462 - val_loss: 2.9184\n",
      "Epoch 5/1000\n",
      "3068/3068 - 2s - loss: 5.1420 - val_loss: 1.5441\n",
      "Epoch 6/1000\n",
      "3068/3068 - 1s - loss: 4.1041 - val_loss: 2.5597\n",
      "Epoch 7/1000\n",
      "3068/3068 - 1s - loss: 3.9249 - val_loss: 1.5216\n",
      "Epoch 8/1000\n",
      "3068/3068 - 1s - loss: 5.7000 - val_loss: 3.2345\n",
      "Epoch 9/1000\n",
      "3068/3068 - 1s - loss: 4.3161 - val_loss: 1.6875\n",
      "Epoch 10/1000\n",
      "3068/3068 - 1s - loss: 4.0208 - val_loss: 1.8791\n",
      "Epoch 11/1000\n",
      "3068/3068 - 1s - loss: 4.4066 - val_loss: 2.4357\n",
      "Epoch 12/1000\n",
      "3068/3068 - 1s - loss: 5.0906 - val_loss: 1.3541\n",
      "Epoch 13/1000\n",
      "3068/3068 - 1s - loss: 3.7259 - val_loss: 1.3614\n",
      "Epoch 14/1000\n",
      "3068/3068 - 1s - loss: 3.8650 - val_loss: 1.6394\n",
      "Epoch 15/1000\n",
      "3068/3068 - 1s - loss: 4.6377 - val_loss: 4.4008\n",
      "Epoch 16/1000\n",
      "3068/3068 - 1s - loss: 6.1869 - val_loss: 2.5938\n",
      "Epoch 17/1000\n",
      "3068/3068 - 1s - loss: 4.7089 - val_loss: 2.0086\n",
      "Epoch 00017: early stopping\n",
      "4\n",
      "Train on 3068 samples, validate on 1316 samples\n",
      "Epoch 1/1000\n",
      "3068/3068 - 3s - loss: 8.3684 - val_loss: 1.4453\n",
      "Epoch 2/1000\n",
      "3068/3068 - 2s - loss: 3.6096 - val_loss: 1.2954\n",
      "Epoch 3/1000\n",
      "3068/3068 - 1s - loss: 3.6934 - val_loss: 2.2517\n",
      "Epoch 4/1000\n",
      "3068/3068 - 1s - loss: 4.1468 - val_loss: 1.5388\n",
      "Epoch 5/1000\n",
      "3068/3068 - 1s - loss: 3.8433 - val_loss: 2.9297\n",
      "Epoch 6/1000\n",
      "3068/3068 - 1s - loss: 4.5265 - val_loss: 2.0519\n",
      "Epoch 7/1000\n",
      "3068/3068 - 1s - loss: 4.8926 - val_loss: 2.0395\n",
      "Epoch 00007: early stopping\n"
     ]
    }
   ],
   "source": [
    "checkpointer = ModelCheckpoint(filepath=\"dnn/best_weights_cnn.hdf5\", verbose=0, save_best_only=True) # save best model\n",
    "\n",
    "for i in range(5):\n",
    "    print(i)   \n",
    "    cnn_model.compile(loss='mean_squared_error', optimizer='adam')\n",
    "    monitor = EarlyStopping(monitor='val_loss', min_delta=1e-4, patience=5, verbose=1, mode='auto')\n",
    "    cnn_model.fit(x_train_cnn, y_train_cnn,batch_size=64,validation_data=(x_test_cnn,y_test_cnn),callbacks=[monitor,checkpointer],verbose=2,epochs=1000)\n"
   ]
  },
  {
   "cell_type": "code",
   "execution_count": 36,
   "metadata": {},
   "outputs": [
    {
     "name": "stdout",
     "output_type": "stream",
     "text": [
      "Score (RMSE) : 1.1381376428610905\n",
      "R2 score     : 0.9984520237777657\n",
      "MSE          : 1.2953572940973994\n"
     ]
    }
   ],
   "source": [
    "from sklearn import metrics\n",
    "\n",
    "cnn_model.load_weights('dnn/best_weights_cnn.hdf5')\n",
    "\n",
    "cnn_model_pred = cnn_model.predict(x_test_cnn)\n",
    "\n",
    "score = np.sqrt(metrics.mean_squared_error(y_test_cnn,cnn_model_pred)) \n",
    "\n",
    "print(\"Score (RMSE) : {}\".format(score))\n",
    "print(\"R2 score     :\",metrics.r2_score(y_test_cnn,cnn_model_pred))\n",
    "print(\"MSE          :\", metrics.mean_squared_error(y_test_cnn, cnn_model_pred))"
   ]
  },
  {
   "cell_type": "code",
   "execution_count": 37,
   "metadata": {},
   "outputs": [
    {
     "data": {
      "image/png": "[encoded data removed]",
      "text/plain": [
       "<Figure size 432x288 with 1 Axes>"
      ]
     },
     "metadata": {
      "needs_background": "light"
     },
     "output_type": "display_data"
    }
   ],
   "source": [
    "chart_regression(cnn_model_pred.flatten(),y_test_cnn)"
   ]
  },
  {
   "cell_type": "code",
   "execution_count": 38,
   "metadata": {},
   "outputs": [
    {
     "data": {
      "image/png": "[encoded data removed]",
      "text/plain": [
       "<Figure size 432x288 with 1 Axes>"
      ]
     },
     "metadata": {
      "needs_background": "light"
     },
     "output_type": "display_data"
    }
   ],
   "source": [
    "chart_regression(cnn_model_pred.flatten(),y_test_cnn,sort=False)"
   ]
  },
  {
   "cell_type": "markdown",
   "metadata": {},
   "source": [
    "## Additional Feature"
   ]
  },
  {
   "cell_type": "markdown",
   "metadata": {},
   "source": [
    "### Best value for number of days (N) we should consider in past for LSTM."
   ]
  },
  {
   "cell_type": "markdown",
   "metadata": {},
   "source": [
    "### N=2"
   ]
  },
  {
   "cell_type": "code",
   "execution_count": 24,
   "metadata": {},
   "outputs": [
    {
     "name": "stdout",
     "output_type": "stream",
     "text": [
      "Shape of x: (4389, 2, 5)\n",
      "Shape of y: (4389,)\n"
     ]
    }
   ],
   "source": [
    "#Preparing x and y\n",
    "SEQUENCE_SIZE = 2\n",
    "x,y = to_sequences(SEQUENCE_SIZE, df.values, df_stock_close)\n",
    "\n",
    "print(\"Shape of x: {}\".format(x.shape))\n",
    "print(\"Shape of y: {}\".format(y.shape))"
   ]
  },
  {
   "cell_type": "code",
   "execution_count": 25,
   "metadata": {},
   "outputs": [
    {
     "name": "stdout",
     "output_type": "stream",
     "text": [
      "Shape of x_train: (3072, 2, 5)\n",
      "Shape of x_test: (1317, 2, 5)\n",
      "Shape of y_train: (3072,)\n",
      "Shape of y_test: (1317,)\n"
     ]
    }
   ],
   "source": [
    "x_train_lstm,x_test_lstm,y_train_lstm,y_test_lstm = train_test_split(x,y, test_size=0.3, random_state =42)\n",
    "print(\"Shape of x_train: {}\".format(x_train_lstm.shape))\n",
    "print(\"Shape of x_test: {}\".format(x_test_lstm.shape))\n",
    "print(\"Shape of y_train: {}\".format(y_train_lstm.shape))\n",
    "print(\"Shape of y_test: {}\".format(y_test_lstm.shape))"
   ]
  },
  {
   "cell_type": "code",
   "execution_count": 26,
   "metadata": {},
   "outputs": [
    {
     "name": "stdout",
     "output_type": "stream",
     "text": [
      "0\n",
      "Build model...\n",
      "Train...\n",
      "Train on 3072 samples, validate on 1317 samples\n",
      "Epoch 1/1000\n",
      "3072/3072 - 5s - loss: 1012.8226 - val_loss: 59.0606\n",
      "Epoch 2/1000\n",
      "3072/3072 - 1s - loss: 38.4706 - val_loss: 3.7481\n",
      "Epoch 3/1000\n",
      "3072/3072 - 2s - loss: 30.2159 - val_loss: 4.3651\n",
      "Epoch 4/1000\n",
      "3072/3072 - 1s - loss: 31.8436 - val_loss: 3.3918\n",
      "Epoch 5/1000\n",
      "3072/3072 - 1s - loss: 27.9114 - val_loss: 3.2938\n",
      "Epoch 6/1000\n",
      "3072/3072 - 1s - loss: 25.1406 - val_loss: 2.8055\n",
      "Epoch 7/1000\n",
      "3072/3072 - 1s - loss: 25.8277 - val_loss: 3.2884\n",
      "Epoch 8/1000\n",
      "3072/3072 - 1s - loss: 24.2095 - val_loss: 3.3893\n",
      "Epoch 9/1000\n",
      "3072/3072 - 1s - loss: 24.0399 - val_loss: 5.2356\n",
      "Epoch 10/1000\n",
      "3072/3072 - 1s - loss: 24.3575 - val_loss: 3.1328\n",
      "Epoch 11/1000\n",
      "3072/3072 - 1s - loss: 21.6374 - val_loss: 2.7312\n",
      "Epoch 12/1000\n",
      "3072/3072 - 1s - loss: 26.7630 - val_loss: 2.2476\n",
      "Epoch 13/1000\n",
      "3072/3072 - 1s - loss: 25.7708 - val_loss: 3.1476\n",
      "Epoch 14/1000\n",
      "3072/3072 - 1s - loss: 22.2392 - val_loss: 3.2586\n",
      "Epoch 15/1000\n",
      "3072/3072 - 1s - loss: 19.4377 - val_loss: 1.8967\n",
      "Epoch 16/1000\n",
      "3072/3072 - 2s - loss: 23.3529 - val_loss: 2.1268\n",
      "Epoch 17/1000\n",
      "3072/3072 - 1s - loss: 19.7186 - val_loss: 3.1912\n",
      "Epoch 18/1000\n",
      "3072/3072 - 1s - loss: 21.0345 - val_loss: 2.4451\n",
      "Epoch 19/1000\n",
      "3072/3072 - 1s - loss: 20.0667 - val_loss: 2.7695\n",
      "Epoch 20/1000\n",
      "3072/3072 - 1s - loss: 19.5217 - val_loss: 2.3507\n",
      "Epoch 00020: early stopping\n",
      "1\n",
      "Build model...\n",
      "Train...\n",
      "Train on 3072 samples, validate on 1317 samples\n",
      "Epoch 1/1000\n",
      "3072/3072 - 4s - loss: 1039.2527 - val_loss: 66.2907\n",
      "Epoch 2/1000\n",
      "3072/3072 - 1s - loss: 38.4882 - val_loss: 3.7681\n",
      "Epoch 3/1000\n",
      "3072/3072 - 1s - loss: 29.8348 - val_loss: 4.0670\n",
      "Epoch 4/1000\n",
      "3072/3072 - 1s - loss: 28.7224 - val_loss: 3.3375\n",
      "Epoch 5/1000\n",
      "3072/3072 - 1s - loss: 27.7282 - val_loss: 3.0982\n",
      "Epoch 6/1000\n",
      "3072/3072 - 1s - loss: 27.3227 - val_loss: 3.0089\n",
      "Epoch 7/1000\n",
      "3072/3072 - 1s - loss: 23.7039 - val_loss: 2.3848\n",
      "Epoch 8/1000\n",
      "3072/3072 - 2s - loss: 24.0110 - val_loss: 3.2128\n",
      "Epoch 9/1000\n",
      "3072/3072 - 1s - loss: 25.9125 - val_loss: 2.2439\n",
      "Epoch 10/1000\n",
      "3072/3072 - 1s - loss: 23.4756 - val_loss: 2.4689\n",
      "Epoch 11/1000\n",
      "3072/3072 - 1s - loss: 23.0620 - val_loss: 2.3931\n",
      "Epoch 12/1000\n",
      "3072/3072 - 1s - loss: 22.5808 - val_loss: 2.2758\n",
      "Epoch 13/1000\n",
      "3072/3072 - 1s - loss: 24.7880 - val_loss: 2.3204\n",
      "Epoch 14/1000\n",
      "3072/3072 - 1s - loss: 21.6036 - val_loss: 2.7945\n",
      "Epoch 00014: early stopping\n",
      "2\n",
      "Build model...\n",
      "Train...\n",
      "Train on 3072 samples, validate on 1317 samples\n",
      "Epoch 1/1000\n",
      "3072/3072 - 6s - loss: 1071.8159 - val_loss: 73.3540\n",
      "Epoch 2/1000\n",
      "3072/3072 - 1s - loss: 47.5519 - val_loss: 4.1299\n",
      "Epoch 3/1000\n",
      "3072/3072 - 1s - loss: 29.6744 - val_loss: 3.7807\n",
      "Epoch 4/1000\n",
      "3072/3072 - 1s - loss: 28.6076 - val_loss: 3.6224\n",
      "Epoch 5/1000\n",
      "3072/3072 - 1s - loss: 29.8047 - val_loss: 3.5842\n",
      "Epoch 6/1000\n",
      "3072/3072 - 1s - loss: 28.6734 - val_loss: 2.8907\n",
      "Epoch 7/1000\n",
      "3072/3072 - 1s - loss: 25.9961 - val_loss: 3.6394\n",
      "Epoch 8/1000\n",
      "3072/3072 - 1s - loss: 26.2856 - val_loss: 3.1833\n",
      "Epoch 9/1000\n",
      "3072/3072 - 1s - loss: 24.6298 - val_loss: 2.3319\n",
      "Epoch 10/1000\n",
      "3072/3072 - 2s - loss: 27.2963 - val_loss: 2.2045\n",
      "Epoch 11/1000\n",
      "3072/3072 - 1s - loss: 22.1915 - val_loss: 2.3048\n",
      "Epoch 12/1000\n",
      "3072/3072 - 1s - loss: 25.1696 - val_loss: 3.6789\n",
      "Epoch 13/1000\n",
      "3072/3072 - 3s - loss: 24.2428 - val_loss: 3.3888\n",
      "Epoch 14/1000\n",
      "3072/3072 - 1s - loss: 24.3652 - val_loss: 2.1612\n",
      "Epoch 15/1000\n",
      "3072/3072 - 1s - loss: 23.1664 - val_loss: 1.9838\n",
      "Epoch 16/1000\n",
      "3072/3072 - 1s - loss: 21.2699 - val_loss: 3.1858\n",
      "Epoch 17/1000\n",
      "3072/3072 - 2s - loss: 21.8174 - val_loss: 2.2306\n",
      "Epoch 18/1000\n",
      "3072/3072 - 1s - loss: 19.6502 - val_loss: 3.0439\n",
      "Epoch 19/1000\n",
      "3072/3072 - 1s - loss: 23.2921 - val_loss: 1.9343\n",
      "Epoch 20/1000\n",
      "3072/3072 - 1s - loss: 20.2327 - val_loss: 2.3466\n",
      "Epoch 21/1000\n",
      "3072/3072 - 2s - loss: 19.3969 - val_loss: 2.3237\n",
      "Epoch 22/1000\n",
      "3072/3072 - 1s - loss: 21.2811 - val_loss: 2.2828\n",
      "Epoch 23/1000\n",
      "3072/3072 - 2s - loss: 20.3050 - val_loss: 1.8033\n",
      "Epoch 24/1000\n",
      "3072/3072 - 2s - loss: 19.7572 - val_loss: 2.0901\n",
      "Epoch 25/1000\n",
      "3072/3072 - 1s - loss: 20.5153 - val_loss: 2.7341\n",
      "Epoch 26/1000\n",
      "3072/3072 - 1s - loss: 19.4536 - val_loss: 2.7848\n",
      "Epoch 27/1000\n",
      "3072/3072 - 1s - loss: 20.3252 - val_loss: 1.8788\n",
      "Epoch 28/1000\n",
      "3072/3072 - 1s - loss: 21.5039 - val_loss: 2.2673\n",
      "Epoch 00028: early stopping\n",
      "3\n",
      "Build model...\n",
      "Train...\n",
      "Train on 3072 samples, validate on 1317 samples\n",
      "Epoch 1/1000\n",
      "3072/3072 - 5s - loss: 1018.9974 - val_loss: 60.7879\n",
      "Epoch 2/1000\n",
      "3072/3072 - 1s - loss: 42.1152 - val_loss: 4.2214\n",
      "Epoch 3/1000\n",
      "3072/3072 - 2s - loss: 31.7453 - val_loss: 3.3318\n",
      "Epoch 4/1000\n",
      "3072/3072 - 2s - loss: 31.7030 - val_loss: 4.0390\n",
      "Epoch 5/1000\n",
      "3072/3072 - 6s - loss: 25.4844 - val_loss: 3.0020\n",
      "Epoch 6/1000\n",
      "3072/3072 - 3s - loss: 29.8181 - val_loss: 3.7360\n",
      "Epoch 7/1000\n",
      "3072/3072 - 1s - loss: 25.6629 - val_loss: 2.5413\n",
      "Epoch 8/1000\n",
      "3072/3072 - 1s - loss: 27.5868 - val_loss: 2.9749\n",
      "Epoch 9/1000\n",
      "3072/3072 - 2s - loss: 25.7409 - val_loss: 2.7197\n",
      "Epoch 10/1000\n",
      "3072/3072 - 1s - loss: 23.9980 - val_loss: 2.5424\n",
      "Epoch 11/1000\n",
      "3072/3072 - 1s - loss: 23.6644 - val_loss: 3.1873\n",
      "Epoch 12/1000\n",
      "3072/3072 - 1s - loss: 24.0712 - val_loss: 2.0110\n",
      "Epoch 13/1000\n",
      "3072/3072 - 1s - loss: 24.4767 - val_loss: 3.1873\n",
      "Epoch 14/1000\n",
      "3072/3072 - 1s - loss: 23.3747 - val_loss: 2.2491\n",
      "Epoch 15/1000\n",
      "3072/3072 - 1s - loss: 21.1035 - val_loss: 2.1814\n",
      "Epoch 16/1000\n",
      "3072/3072 - 1s - loss: 23.3768 - val_loss: 2.5462\n",
      "Epoch 17/1000\n",
      "3072/3072 - 1s - loss: 22.3909 - val_loss: 2.3511\n",
      "Epoch 00017: early stopping\n",
      "4\n",
      "Build model...\n",
      "Train...\n",
      "Train on 3072 samples, validate on 1317 samples\n",
      "Epoch 1/1000\n",
      "3072/3072 - 6s - loss: 1125.2467 - val_loss: 73.1732\n",
      "Epoch 2/1000\n",
      "3072/3072 - 1s - loss: 38.1737 - val_loss: 3.8430\n",
      "Epoch 3/1000\n",
      "3072/3072 - 1s - loss: 29.4291 - val_loss: 4.6156\n",
      "Epoch 4/1000\n",
      "3072/3072 - 1s - loss: 32.2789 - val_loss: 3.4373\n",
      "Epoch 5/1000\n",
      "3072/3072 - 1s - loss: 27.9301 - val_loss: 4.4484\n",
      "Epoch 6/1000\n",
      "3072/3072 - 1s - loss: 29.4957 - val_loss: 3.8551\n",
      "Epoch 7/1000\n",
      "3072/3072 - 2s - loss: 25.8619 - val_loss: 3.6474\n",
      "Epoch 8/1000\n",
      "3072/3072 - 2s - loss: 27.5401 - val_loss: 2.8235\n",
      "Epoch 9/1000\n",
      "3072/3072 - 1s - loss: 27.1016 - val_loss: 4.2091\n",
      "Epoch 10/1000\n",
      "3072/3072 - 1s - loss: 25.4542 - val_loss: 2.2151\n",
      "Epoch 11/1000\n",
      "3072/3072 - 1s - loss: 24.9097 - val_loss: 2.9321\n",
      "Epoch 12/1000\n",
      "3072/3072 - 1s - loss: 21.4418 - val_loss: 3.7692\n",
      "Epoch 13/1000\n",
      "3072/3072 - 2s - loss: 24.5209 - val_loss: 2.2163\n",
      "Epoch 14/1000\n",
      "3072/3072 - 1s - loss: 24.0605 - val_loss: 2.6879\n",
      "Epoch 15/1000\n",
      "3072/3072 - 1s - loss: 21.6454 - val_loss: 4.0626\n",
      "Epoch 00015: early stopping\n"
     ]
    }
   ],
   "source": [
    "#checkpointer\n",
    "checkpointer = ModelCheckpoint(filepath=\"best_weights_lstm.hdf5\", verbose=0, save_best_only=True) # save best model\n",
    "for i in range(5):\n",
    "    print(i)    \n",
    "    print('Build model...')\n",
    "    model = Sequential()\n",
    "    model.add(LSTM(100, dropout=0.1, recurrent_dropout=0.1,input_shape=(2, 5)))\n",
    "    model.add(Dense(50))\n",
    "    model.add(Dense(1))\n",
    "    model.compile(loss='mean_squared_error', optimizer='adam')\n",
    "    monitor = EarlyStopping(monitor='val_loss', min_delta=1e-3, patience=5, verbose=1, mode='auto')\n",
    "    print('Train...')\n",
    "    model.fit(x_train_lstm,y_train_lstm,validation_data=(x_test_lstm,y_test_lstm),callbacks=[monitor,checkpointer],verbose=2, epochs=1000) \n"
   ]
  },
  {
   "cell_type": "code",
   "execution_count": 28,
   "metadata": {},
   "outputs": [
    {
     "name": "stdout",
     "output_type": "stream",
     "text": [
      "RMSE         : 1.3428704923662471\n",
      "MSE          : 1.803301159267967\n",
      "R2 score     : 0.9979426101200721\n"
     ]
    },
    {
     "data": {
      "image/png": "[encoded data removed]",
      "text/plain": [
       "<Figure size 432x288 with 1 Axes>"
      ]
     },
     "metadata": {
      "needs_background": "light"
     },
     "output_type": "display_data"
    }
   ],
   "source": [
    "from sklearn import metrics\n",
    "from sklearn.metrics import r2_score\n",
    "model.load_weights('best_weights_lstm.hdf5')\n",
    "pred = model.predict(x_test_lstm)\n",
    "score = np.sqrt(metrics.mean_squared_error(pred,y_test_lstm))\n",
    "print(\"RMSE         : {}\".format(score))\n",
    "print(\"MSE          :\", metrics.mean_squared_error(y_test_lstm, pred))\n",
    "print(\"R2 score     :\",metrics.r2_score(y_test_lstm,pred))\n",
    "# Plot the chart\n",
    "chart_regression(pred.flatten(),y_test_lstm)"
   ]
  },
  {
   "cell_type": "code",
   "execution_count": 29,
   "metadata": {},
   "outputs": [
    {
     "data": {
      "image/png": "[encoded data removed]",
      "text/plain": [
       "<Figure size 432x288 with 1 Axes>"
      ]
     },
     "metadata": {
      "needs_background": "light"
     },
     "output_type": "display_data"
    }
   ],
   "source": [
    "chart_regression(pred.flatten(),y_test_lstm,sort=False)"
   ]
  },
  {
   "cell_type": "markdown",
   "metadata": {},
   "source": [
    "###  N=4"
   ]
  },
  {
   "cell_type": "code",
   "execution_count": 30,
   "metadata": {},
   "outputs": [
    {
     "name": "stdout",
     "output_type": "stream",
     "text": [
      "Shape of x: (4387, 4, 5)\n",
      "Shape of y: (4387,)\n"
     ]
    }
   ],
   "source": [
    "#Preparing x and y\n",
    "SEQUENCE_SIZE = 4\n",
    "x,y = to_sequences(SEQUENCE_SIZE, df.values, df_stock_close)\n",
    "\n",
    "print(\"Shape of x: {}\".format(x.shape))\n",
    "print(\"Shape of y: {}\".format(y.shape))"
   ]
  },
  {
   "cell_type": "code",
   "execution_count": 31,
   "metadata": {},
   "outputs": [
    {
     "name": "stdout",
     "output_type": "stream",
     "text": [
      "Shape of x_train: (3070, 4, 5)\n",
      "Shape of x_test: (1317, 4, 5)\n",
      "Shape of y_train: (3070,)\n",
      "Shape of y_test: (1317,)\n"
     ]
    }
   ],
   "source": [
    "x_train_lstm,x_test_lstm,y_train_lstm,y_test_lstm = train_test_split(x,y, test_size=0.3, random_state =42)\n",
    "print(\"Shape of x_train: {}\".format(x_train_lstm.shape))\n",
    "print(\"Shape of x_test: {}\".format(x_test_lstm.shape))\n",
    "print(\"Shape of y_train: {}\".format(y_train_lstm.shape))\n",
    "print(\"Shape of y_test: {}\".format(y_test_lstm.shape))"
   ]
  },
  {
   "cell_type": "code",
   "execution_count": 32,
   "metadata": {},
   "outputs": [
    {
     "name": "stdout",
     "output_type": "stream",
     "text": [
      "0\n",
      "Build model...\n",
      "Train...\n",
      "Train on 3070 samples, validate on 1317 samples\n",
      "Epoch 1/1000\n",
      "3070/3070 - 8s - loss: 800.6661 - val_loss: 32.2884\n",
      "Epoch 2/1000\n",
      "3070/3070 - 2s - loss: 42.0115 - val_loss: 12.0259\n",
      "Epoch 3/1000\n",
      "3070/3070 - 3s - loss: 31.9269 - val_loss: 3.6905\n",
      "Epoch 4/1000\n",
      "3070/3070 - 2s - loss: 31.4663 - val_loss: 3.9213\n",
      "Epoch 5/1000\n",
      "3070/3070 - 2s - loss: 31.4742 - val_loss: 6.3967\n",
      "Epoch 6/1000\n",
      "3070/3070 - 3s - loss: 28.5280 - val_loss: 2.9016\n",
      "Epoch 7/1000\n",
      "3070/3070 - 2s - loss: 28.0868 - val_loss: 5.8554\n",
      "Epoch 8/1000\n",
      "3070/3070 - 2s - loss: 25.6137 - val_loss: 3.8209\n",
      "Epoch 9/1000\n",
      "3070/3070 - 2s - loss: 23.3233 - val_loss: 7.4333\n",
      "Epoch 10/1000\n",
      "3070/3070 - 2s - loss: 23.9259 - val_loss: 2.1033\n",
      "Epoch 11/1000\n",
      "3070/3070 - 2s - loss: 21.2045 - val_loss: 1.8787\n",
      "Epoch 12/1000\n",
      "3070/3070 - 2s - loss: 21.9005 - val_loss: 5.2207\n",
      "Epoch 13/1000\n",
      "3070/3070 - 3s - loss: 18.8819 - val_loss: 1.6728\n",
      "Epoch 14/1000\n",
      "3070/3070 - 2s - loss: 20.6898 - val_loss: 8.6305\n",
      "Epoch 15/1000\n",
      "3070/3070 - 2s - loss: 20.7696 - val_loss: 1.6438\n",
      "Epoch 16/1000\n",
      "3070/3070 - 2s - loss: 18.1988 - val_loss: 1.5965\n",
      "Epoch 17/1000\n",
      "3070/3070 - 2s - loss: 20.4543 - val_loss: 1.8601\n",
      "Epoch 18/1000\n",
      "3070/3070 - 2s - loss: 18.8126 - val_loss: 1.2663\n",
      "Epoch 19/1000\n",
      "3070/3070 - 2s - loss: 18.8228 - val_loss: 1.3610\n",
      "Epoch 20/1000\n",
      "3070/3070 - 2s - loss: 17.0649 - val_loss: 1.1640\n",
      "Epoch 21/1000\n",
      "3070/3070 - 2s - loss: 19.1074 - val_loss: 7.7479\n",
      "Epoch 22/1000\n",
      "3070/3070 - 2s - loss: 18.7921 - val_loss: 2.1975\n",
      "Epoch 23/1000\n",
      "3070/3070 - 2s - loss: 16.1844 - val_loss: 1.5381\n",
      "Epoch 24/1000\n",
      "3070/3070 - 2s - loss: 19.5574 - val_loss: 1.2492\n",
      "Epoch 25/1000\n",
      "3070/3070 - 2s - loss: 17.2350 - val_loss: 1.9362\n",
      "Epoch 00025: early stopping\n",
      "1\n",
      "Build model...\n",
      "Train...\n",
      "Train on 3070 samples, validate on 1317 samples\n",
      "Epoch 1/1000\n",
      "3070/3070 - 7s - loss: 764.9515 - val_loss: 24.9258\n",
      "Epoch 2/1000\n",
      "3070/3070 - 2s - loss: 38.0912 - val_loss: 5.5946\n",
      "Epoch 3/1000\n",
      "3070/3070 - 2s - loss: 34.0659 - val_loss: 6.8560\n",
      "Epoch 4/1000\n",
      "3070/3070 - 2s - loss: 31.5089 - val_loss: 5.5339\n",
      "Epoch 5/1000\n",
      "3070/3070 - 2s - loss: 25.2520 - val_loss: 3.1082\n",
      "Epoch 6/1000\n",
      "3070/3070 - 2s - loss: 30.3790 - val_loss: 2.4986\n",
      "Epoch 7/1000\n",
      "3070/3070 - 2s - loss: 27.7899 - val_loss: 3.1009\n",
      "Epoch 8/1000\n",
      "3070/3070 - 2s - loss: 25.3459 - val_loss: 5.0166\n",
      "Epoch 9/1000\n",
      "3070/3070 - 2s - loss: 25.1523 - val_loss: 2.1498\n",
      "Epoch 10/1000\n",
      "3070/3070 - 2s - loss: 24.5315 - val_loss: 4.6082\n",
      "Epoch 11/1000\n",
      "3070/3070 - 2s - loss: 24.0544 - val_loss: 1.9784\n",
      "Epoch 12/1000\n",
      "3070/3070 - 2s - loss: 22.9797 - val_loss: 4.7381\n",
      "Epoch 13/1000\n",
      "3070/3070 - 2s - loss: 20.6578 - val_loss: 5.7774\n",
      "Epoch 14/1000\n",
      "3070/3070 - 2s - loss: 22.2863 - val_loss: 3.4148\n",
      "Epoch 15/1000\n",
      "3070/3070 - 2s - loss: 23.0474 - val_loss: 1.4604\n",
      "Epoch 16/1000\n",
      "3070/3070 - 2s - loss: 18.2295 - val_loss: 1.5125\n",
      "Epoch 17/1000\n",
      "3070/3070 - 3s - loss: 18.9102 - val_loss: 1.6523\n",
      "Epoch 18/1000\n",
      "3070/3070 - 2s - loss: 19.1891 - val_loss: 2.0084\n",
      "Epoch 19/1000\n",
      "3070/3070 - 2s - loss: 20.6637 - val_loss: 1.2895\n",
      "Epoch 20/1000\n",
      "3070/3070 - 2s - loss: 16.8436 - val_loss: 1.2343\n",
      "Epoch 21/1000\n",
      "3070/3070 - 2s - loss: 18.8689 - val_loss: 1.6811\n",
      "Epoch 22/1000\n",
      "3070/3070 - 2s - loss: 18.6505 - val_loss: 2.1459\n",
      "Epoch 23/1000\n",
      "3070/3070 - 2s - loss: 16.8093 - val_loss: 4.5475\n",
      "Epoch 24/1000\n",
      "3070/3070 - 2s - loss: 17.0459 - val_loss: 2.2242\n",
      "Epoch 25/1000\n",
      "3070/3070 - 2s - loss: 17.1570 - val_loss: 1.5674\n",
      "Epoch 00025: early stopping\n",
      "2\n",
      "Build model...\n",
      "Train...\n",
      "Train on 3070 samples, validate on 1317 samples\n",
      "Epoch 1/1000\n",
      "3070/3070 - 6s - loss: 725.8907 - val_loss: 23.7093\n",
      "Epoch 2/1000\n",
      "3070/3070 - 2s - loss: 38.5221 - val_loss: 4.9461\n",
      "Epoch 3/1000\n",
      "3070/3070 - 2s - loss: 36.4907 - val_loss: 4.0871\n",
      "Epoch 4/1000\n",
      "3070/3070 - 2s - loss: 31.7123 - val_loss: 6.3917\n",
      "Epoch 5/1000\n",
      "3070/3070 - 2s - loss: 25.7986 - val_loss: 6.7312\n",
      "Epoch 6/1000\n",
      "3070/3070 - 3s - loss: 27.4746 - val_loss: 5.3322\n",
      "Epoch 7/1000\n",
      "3070/3070 - 2s - loss: 26.6076 - val_loss: 2.4038\n",
      "Epoch 8/1000\n",
      "3070/3070 - 2s - loss: 22.8963 - val_loss: 3.3882\n",
      "Epoch 9/1000\n",
      "3070/3070 - 2s - loss: 21.8576 - val_loss: 2.9703\n",
      "Epoch 10/1000\n",
      "3070/3070 - 2s - loss: 21.1816 - val_loss: 2.0051\n",
      "Epoch 11/1000\n",
      "3070/3070 - 2s - loss: 24.0935 - val_loss: 3.8707\n",
      "Epoch 12/1000\n",
      "3070/3070 - 2s - loss: 20.1777 - val_loss: 2.0635\n",
      "Epoch 13/1000\n",
      "3070/3070 - 2s - loss: 19.6864 - val_loss: 1.6963\n",
      "Epoch 14/1000\n",
      "3070/3070 - 2s - loss: 21.6211 - val_loss: 2.4655\n",
      "Epoch 15/1000\n",
      "3070/3070 - 2s - loss: 23.5301 - val_loss: 2.2021\n",
      "Epoch 16/1000\n",
      "3070/3070 - 3s - loss: 19.2705 - val_loss: 2.2590\n",
      "Epoch 17/1000\n",
      "3070/3070 - 2s - loss: 19.0040 - val_loss: 1.4904\n",
      "Epoch 18/1000\n",
      "3070/3070 - 2s - loss: 18.8815 - val_loss: 1.8593\n",
      "Epoch 19/1000\n",
      "3070/3070 - 2s - loss: 18.9189 - val_loss: 1.2910\n",
      "Epoch 20/1000\n",
      "3070/3070 - 2s - loss: 19.9354 - val_loss: 1.9599\n",
      "Epoch 21/1000\n",
      "3070/3070 - 3s - loss: 18.7948 - val_loss: 5.5875\n",
      "Epoch 22/1000\n",
      "3070/3070 - 2s - loss: 17.1179 - val_loss: 1.1856\n",
      "Epoch 23/1000\n",
      "3070/3070 - 4s - loss: 17.6540 - val_loss: 1.3916\n",
      "Epoch 24/1000\n",
      "3070/3070 - 2s - loss: 19.2101 - val_loss: 1.4317\n",
      "Epoch 25/1000\n",
      "3070/3070 - 4s - loss: 16.6677 - val_loss: 1.1329\n",
      "Epoch 26/1000\n",
      "3070/3070 - 2s - loss: 15.7846 - val_loss: 1.8377\n",
      "Epoch 27/1000\n",
      "3070/3070 - 3s - loss: 17.2332 - val_loss: 1.7265\n",
      "Epoch 28/1000\n",
      "3070/3070 - 2s - loss: 18.4443 - val_loss: 5.6978\n",
      "Epoch 29/1000\n",
      "3070/3070 - 2s - loss: 17.3258 - val_loss: 1.3525\n",
      "Epoch 30/1000\n",
      "3070/3070 - 2s - loss: 17.4897 - val_loss: 1.2241\n",
      "Epoch 00030: early stopping\n",
      "3\n",
      "Build model...\n",
      "Train...\n",
      "Train on 3070 samples, validate on 1317 samples\n",
      "Epoch 1/1000\n",
      "3070/3070 - 7s - loss: 730.9712 - val_loss: 19.0676\n",
      "Epoch 2/1000\n",
      "3070/3070 - 2s - loss: 36.6441 - val_loss: 4.6728\n",
      "Epoch 3/1000\n",
      "3070/3070 - 2s - loss: 34.5603 - val_loss: 4.9531\n",
      "Epoch 4/1000\n",
      "3070/3070 - 2s - loss: 31.2742 - val_loss: 3.0894\n",
      "Epoch 5/1000\n",
      "3070/3070 - 2s - loss: 31.1509 - val_loss: 4.4949\n",
      "Epoch 6/1000\n",
      "3070/3070 - 8s - loss: 27.4656 - val_loss: 7.2096\n",
      "Epoch 7/1000\n",
      "3070/3070 - 3s - loss: 26.8158 - val_loss: 3.1051\n",
      "Epoch 8/1000\n",
      "3070/3070 - 2s - loss: 27.0603 - val_loss: 3.5647\n",
      "Epoch 9/1000\n",
      "3070/3070 - 2s - loss: 25.8774 - val_loss: 2.5647\n",
      "Epoch 10/1000\n",
      "3070/3070 - 2s - loss: 23.0052 - val_loss: 4.0793\n",
      "Epoch 11/1000\n",
      "3070/3070 - 2s - loss: 20.9819 - val_loss: 1.8544\n",
      "Epoch 12/1000\n",
      "3070/3070 - 3s - loss: 20.9057 - val_loss: 2.2469\n",
      "Epoch 13/1000\n",
      "3070/3070 - 3s - loss: 22.6672 - val_loss: 2.7272\n",
      "Epoch 14/1000\n",
      "3070/3070 - 4s - loss: 18.2912 - val_loss: 1.6155\n",
      "Epoch 15/1000\n",
      "3070/3070 - 2s - loss: 18.9156 - val_loss: 4.5566\n",
      "Epoch 16/1000\n",
      "3070/3070 - 2s - loss: 20.4892 - val_loss: 1.8041\n",
      "Epoch 17/1000\n",
      "3070/3070 - 2s - loss: 18.3073 - val_loss: 1.9555\n",
      "Epoch 18/1000\n",
      "3070/3070 - 2s - loss: 18.3403 - val_loss: 2.7448\n",
      "Epoch 19/1000\n",
      "3070/3070 - 2s - loss: 20.0070 - val_loss: 2.2794\n",
      "Epoch 00019: early stopping\n",
      "4\n",
      "Build model...\n",
      "Train...\n",
      "Train on 3070 samples, validate on 1317 samples\n",
      "Epoch 1/1000\n",
      "3070/3070 - 7s - loss: 851.6564 - val_loss: 28.9402\n",
      "Epoch 2/1000\n",
      "3070/3070 - 2s - loss: 39.4849 - val_loss: 6.5149\n",
      "Epoch 3/1000\n",
      "3070/3070 - 2s - loss: 27.8888 - val_loss: 4.1046\n",
      "Epoch 4/1000\n",
      "3070/3070 - 2s - loss: 31.6323 - val_loss: 4.1712\n",
      "Epoch 5/1000\n",
      "3070/3070 - 2s - loss: 27.2515 - val_loss: 2.7626\n",
      "Epoch 6/1000\n",
      "3070/3070 - 2s - loss: 30.3238 - val_loss: 4.5902\n",
      "Epoch 7/1000\n",
      "3070/3070 - 2s - loss: 25.6838 - val_loss: 3.6479\n",
      "Epoch 8/1000\n",
      "3070/3070 - 2s - loss: 24.6159 - val_loss: 2.4507\n",
      "Epoch 9/1000\n",
      "3070/3070 - 3s - loss: 22.7634 - val_loss: 5.1165\n",
      "Epoch 10/1000\n",
      "3070/3070 - 3s - loss: 22.3076 - val_loss: 2.2107\n",
      "Epoch 11/1000\n",
      "3070/3070 - 2s - loss: 21.0318 - val_loss: 1.9622\n",
      "Epoch 12/1000\n",
      "3070/3070 - 2s - loss: 25.8755 - val_loss: 2.2718\n",
      "Epoch 13/1000\n",
      "3070/3070 - 3s - loss: 19.7927 - val_loss: 1.9442\n",
      "Epoch 14/1000\n",
      "3070/3070 - 4s - loss: 19.6674 - val_loss: 1.8548\n",
      "Epoch 15/1000\n",
      "3070/3070 - 3s - loss: 17.9853 - val_loss: 1.8112\n",
      "Epoch 16/1000\n",
      "3070/3070 - 3s - loss: 18.9223 - val_loss: 3.6695\n",
      "Epoch 17/1000\n",
      "3070/3070 - 2s - loss: 18.0530 - val_loss: 2.4388\n",
      "Epoch 18/1000\n",
      "3070/3070 - 2s - loss: 17.1810 - val_loss: 1.2490\n",
      "Epoch 19/1000\n",
      "3070/3070 - 4s - loss: 16.4084 - val_loss: 1.0597\n",
      "Epoch 20/1000\n",
      "3070/3070 - 4s - loss: 15.9253 - val_loss: 1.1434\n",
      "Epoch 21/1000\n",
      "3070/3070 - 2s - loss: 17.1688 - val_loss: 1.3185\n",
      "Epoch 22/1000\n",
      "3070/3070 - 2s - loss: 16.3634 - val_loss: 1.5728\n",
      "Epoch 23/1000\n"
     ]
    },
    {
     "name": "stdout",
     "output_type": "stream",
     "text": [
      "3070/3070 - 2s - loss: 16.6529 - val_loss: 1.7303\n",
      "Epoch 24/1000\n",
      "3070/3070 - 2s - loss: 17.2090 - val_loss: 5.6086\n",
      "Epoch 00024: early stopping\n"
     ]
    }
   ],
   "source": [
    "#checkpointer\n",
    "checkpointer = ModelCheckpoint(filepath=\"best_weights_lstm.hdf5\", verbose=0, save_best_only=True) # save best model\n",
    "for i in range(5):\n",
    "    print(i)    \n",
    "    print('Build model...')\n",
    "    model = Sequential()\n",
    "    model.add(LSTM(100, dropout=0.1, recurrent_dropout=0.1,input_shape=(4, 5)))\n",
    "    model.add(Dense(50))\n",
    "    model.add(Dense(1))\n",
    "    model.compile(loss='mean_squared_error', optimizer='adam')\n",
    "    monitor = EarlyStopping(monitor='val_loss', min_delta=1e-3, patience=5, verbose=1, mode='auto')\n",
    "    print('Train...')\n",
    "    model.fit(x_train_lstm,y_train_lstm,validation_data=(x_test_lstm,y_test_lstm),callbacks=[monitor,checkpointer],verbose=2, epochs=1000) \n"
   ]
  },
  {
   "cell_type": "code",
   "execution_count": 33,
   "metadata": {},
   "outputs": [
    {
     "name": "stdout",
     "output_type": "stream",
     "text": [
      "RMSE         : 1.0294291980297656\n",
      "MSE          : 1.0597244737562066\n",
      "R2 score     : 0.9987681723204844\n"
     ]
    },
    {
     "data": {
      "image/png": "[encoded data removed]",
      "text/plain": [
       "<Figure size 432x288 with 1 Axes>"
      ]
     },
     "metadata": {
      "needs_background": "light"
     },
     "output_type": "display_data"
    }
   ],
   "source": [
    "model.load_weights('best_weights_lstm.hdf5')\n",
    "pred = model.predict(x_test_lstm)\n",
    "score = np.sqrt(metrics.mean_squared_error(pred,y_test_lstm))\n",
    "print(\"RMSE         : {}\".format(score))\n",
    "print(\"MSE          :\", metrics.mean_squared_error(y_test_lstm, pred))\n",
    "print(\"R2 score     :\",metrics.r2_score(y_test_lstm,pred))\n",
    "# Plot the chart\n",
    "chart_regression(pred.flatten(),y_test_lstm)"
   ]
  },
  {
   "cell_type": "code",
   "execution_count": 34,
   "metadata": {},
   "outputs": [
    {
     "data": {
      "image/png": "[encoded data removed]",
      "text/plain": [
       "<Figure size 432x288 with 1 Axes>"
      ]
     },
     "metadata": {
      "needs_background": "light"
     },
     "output_type": "display_data"
    }
   ],
   "source": [
    "chart_regression(pred.flatten(),y_test_lstm,sort=False)"
   ]
  },
  {
   "cell_type": "markdown",
   "metadata": {},
   "source": [
    "###  N=10"
   ]
  },
  {
   "cell_type": "code",
   "execution_count": 35,
   "metadata": {},
   "outputs": [
    {
     "name": "stdout",
     "output_type": "stream",
     "text": [
      "Shape of x: (4381, 10, 5)\n",
      "Shape of y: (4381,)\n"
     ]
    }
   ],
   "source": [
    "#Preparing x and y\n",
    "SEQUENCE_SIZE = 10\n",
    "x,y = to_sequences(SEQUENCE_SIZE, df.values, df_stock_close)\n",
    "\n",
    "print(\"Shape of x: {}\".format(x.shape))\n",
    "print(\"Shape of y: {}\".format(y.shape))"
   ]
  },
  {
   "cell_type": "code",
   "execution_count": 36,
   "metadata": {},
   "outputs": [
    {
     "name": "stdout",
     "output_type": "stream",
     "text": [
      "Shape of x_train: (3066, 10, 5)\n",
      "Shape of x_test: (1315, 10, 5)\n",
      "Shape of y_train: (3066,)\n",
      "Shape of y_test: (1315,)\n"
     ]
    }
   ],
   "source": [
    "x_train_lstm,x_test_lstm,y_train_lstm,y_test_lstm = train_test_split(x,y, test_size=0.3, random_state =42)\n",
    "print(\"Shape of x_train: {}\".format(x_train_lstm.shape))\n",
    "print(\"Shape of x_test: {}\".format(x_test_lstm.shape))\n",
    "print(\"Shape of y_train: {}\".format(y_train_lstm.shape))\n",
    "print(\"Shape of y_test: {}\".format(y_test_lstm.shape))"
   ]
  },
  {
   "cell_type": "code",
   "execution_count": 37,
   "metadata": {},
   "outputs": [
    {
     "name": "stdout",
     "output_type": "stream",
     "text": [
      "0\n",
      "Build model...\n",
      "Train...\n",
      "Train on 3066 samples, validate on 1315 samples\n",
      "Epoch 1/1000\n",
      "3066/3066 - 14s - loss: 671.6882 - val_loss: 38.4827\n",
      "Epoch 2/1000\n",
      "3066/3066 - 5s - loss: 42.0940 - val_loss: 6.1378\n",
      "Epoch 3/1000\n",
      "3066/3066 - 4s - loss: 33.9655 - val_loss: 5.2140\n",
      "Epoch 4/1000\n",
      "3066/3066 - 4s - loss: 29.2663 - val_loss: 4.9048\n",
      "Epoch 5/1000\n",
      "3066/3066 - 4s - loss: 27.6781 - val_loss: 4.8277\n",
      "Epoch 6/1000\n",
      "3066/3066 - 4s - loss: 25.8736 - val_loss: 3.8007\n",
      "Epoch 7/1000\n",
      "3066/3066 - 4s - loss: 23.2640 - val_loss: 10.0326\n",
      "Epoch 8/1000\n",
      "3066/3066 - 5s - loss: 24.5945 - val_loss: 2.9155\n",
      "Epoch 9/1000\n",
      "3066/3066 - 6s - loss: 19.8078 - val_loss: 5.7916\n",
      "Epoch 10/1000\n",
      "3066/3066 - 4s - loss: 23.2285 - val_loss: 5.8037\n",
      "Epoch 11/1000\n",
      "3066/3066 - 4s - loss: 19.5444 - val_loss: 5.1724\n",
      "Epoch 12/1000\n",
      "3066/3066 - 4s - loss: 21.6810 - val_loss: 3.5580\n",
      "Epoch 13/1000\n",
      "3066/3066 - 4s - loss: 20.2012 - val_loss: 3.5816\n",
      "Epoch 00013: early stopping\n",
      "1\n",
      "Build model...\n",
      "Train...\n",
      "Train on 3066 samples, validate on 1315 samples\n",
      "Epoch 1/1000\n",
      "3066/3066 - 10s - loss: 553.2001 - val_loss: 13.6664\n",
      "Epoch 2/1000\n",
      "3066/3066 - 4s - loss: 37.7890 - val_loss: 6.2795\n",
      "Epoch 3/1000\n",
      "3066/3066 - 4s - loss: 32.1527 - val_loss: 4.8796\n",
      "Epoch 4/1000\n",
      "3066/3066 - 5s - loss: 30.4510 - val_loss: 4.9566\n",
      "Epoch 5/1000\n",
      "3066/3066 - 3s - loss: 30.2871 - val_loss: 5.1171\n",
      "Epoch 6/1000\n",
      "3066/3066 - 4s - loss: 27.6254 - val_loss: 7.3255\n",
      "Epoch 7/1000\n",
      "3066/3066 - 7s - loss: 22.3976 - val_loss: 2.6499\n",
      "Epoch 8/1000\n",
      "3066/3066 - 5s - loss: 24.0331 - val_loss: 3.8646\n",
      "Epoch 9/1000\n",
      "3066/3066 - 5s - loss: 20.0490 - val_loss: 3.8786\n",
      "Epoch 10/1000\n",
      "3066/3066 - 4s - loss: 19.3475 - val_loss: 2.5800\n",
      "Epoch 11/1000\n",
      "3066/3066 - 4s - loss: 18.9622 - val_loss: 3.1452\n",
      "Epoch 12/1000\n",
      "3066/3066 - 4s - loss: 18.1369 - val_loss: 4.1131\n",
      "Epoch 13/1000\n",
      "3066/3066 - 5s - loss: 20.7040 - val_loss: 2.8818\n",
      "Epoch 14/1000\n",
      "3066/3066 - 4s - loss: 18.1853 - val_loss: 14.4749\n",
      "Epoch 15/1000\n",
      "3066/3066 - 5s - loss: 18.4327 - val_loss: 3.8644\n",
      "Epoch 00015: early stopping\n",
      "2\n",
      "Build model...\n",
      "Train...\n",
      "Train on 3066 samples, validate on 1315 samples\n",
      "Epoch 1/1000\n",
      "3066/3066 - 11s - loss: 647.1386 - val_loss: 23.9820\n",
      "Epoch 2/1000\n",
      "3066/3066 - 8s - loss: 41.6815 - val_loss: 14.5444\n",
      "Epoch 3/1000\n",
      "3066/3066 - 6s - loss: 32.5996 - val_loss: 10.7128\n",
      "Epoch 4/1000\n",
      "3066/3066 - 7s - loss: 29.6053 - val_loss: 5.2217\n",
      "Epoch 5/1000\n",
      "3066/3066 - 5s - loss: 27.0012 - val_loss: 4.5368\n",
      "Epoch 6/1000\n",
      "3066/3066 - 4s - loss: 26.0463 - val_loss: 2.9982\n",
      "Epoch 7/1000\n",
      "3066/3066 - 4s - loss: 23.8182 - val_loss: 4.7165\n",
      "Epoch 8/1000\n",
      "3066/3066 - 3s - loss: 25.0074 - val_loss: 2.9725\n",
      "Epoch 9/1000\n",
      "3066/3066 - 5s - loss: 19.6047 - val_loss: 2.7849\n",
      "Epoch 10/1000\n",
      "3066/3066 - 3s - loss: 23.2588 - val_loss: 6.9842\n",
      "Epoch 11/1000\n",
      "3066/3066 - 7s - loss: 22.2019 - val_loss: 2.5619\n",
      "Epoch 12/1000\n",
      "3066/3066 - 4s - loss: 21.5808 - val_loss: 2.2071\n",
      "Epoch 13/1000\n",
      "3066/3066 - 4s - loss: 18.0173 - val_loss: 2.1587\n",
      "Epoch 14/1000\n",
      "3066/3066 - 4s - loss: 19.0375 - val_loss: 10.6997\n",
      "Epoch 15/1000\n",
      "3066/3066 - 3s - loss: 19.6982 - val_loss: 2.7720\n",
      "Epoch 16/1000\n",
      "3066/3066 - 4s - loss: 16.8881 - val_loss: 2.5068\n",
      "Epoch 17/1000\n",
      "3066/3066 - 3s - loss: 16.6026 - val_loss: 5.2621\n",
      "Epoch 18/1000\n",
      "3066/3066 - 6s - loss: 20.6618 - val_loss: 2.9292\n",
      "Epoch 00018: early stopping\n",
      "3\n",
      "Build model...\n",
      "Train...\n",
      "Train on 3066 samples, validate on 1315 samples\n",
      "Epoch 1/1000\n",
      "3066/3066 - 10s - loss: 632.2409 - val_loss: 24.1319\n",
      "Epoch 2/1000\n",
      "3066/3066 - 3s - loss: 49.2499 - val_loss: 7.4157\n",
      "Epoch 3/1000\n",
      "3066/3066 - 5s - loss: 32.5362 - val_loss: 8.6619\n",
      "Epoch 4/1000\n",
      "3066/3066 - 4s - loss: 31.1618 - val_loss: 13.6417\n",
      "Epoch 5/1000\n",
      "3066/3066 - 3s - loss: 27.5804 - val_loss: 2.9534\n",
      "Epoch 6/1000\n",
      "3066/3066 - 3s - loss: 26.2217 - val_loss: 3.5735\n",
      "Epoch 7/1000\n",
      "3066/3066 - 4s - loss: 25.8602 - val_loss: 10.8747\n",
      "Epoch 8/1000\n",
      "3066/3066 - 4s - loss: 24.5769 - val_loss: 2.8349\n",
      "Epoch 9/1000\n",
      "3066/3066 - 3s - loss: 23.3996 - val_loss: 6.5463\n",
      "Epoch 10/1000\n",
      "3066/3066 - 5s - loss: 22.7754 - val_loss: 14.0561\n",
      "Epoch 11/1000\n",
      "3066/3066 - 8s - loss: 22.6170 - val_loss: 2.8134\n",
      "Epoch 12/1000\n",
      "3066/3066 - 6s - loss: 19.8569 - val_loss: 2.1857\n",
      "Epoch 13/1000\n",
      "3066/3066 - 4s - loss: 19.7285 - val_loss: 3.0080\n",
      "Epoch 14/1000\n",
      "3066/3066 - 4s - loss: 21.9531 - val_loss: 2.3832\n",
      "Epoch 15/1000\n",
      "3066/3066 - 5s - loss: 16.9764 - val_loss: 3.2079\n",
      "Epoch 16/1000\n",
      "3066/3066 - 3s - loss: 16.7061 - val_loss: 4.2720\n",
      "Epoch 17/1000\n",
      "3066/3066 - 3s - loss: 18.4798 - val_loss: 3.1304\n",
      "Epoch 00017: early stopping\n",
      "4\n",
      "Build model...\n",
      "Train...\n",
      "Train on 3066 samples, validate on 1315 samples\n",
      "Epoch 1/1000\n",
      "3066/3066 - 10s - loss: 613.2682 - val_loss: 30.9935\n",
      "Epoch 2/1000\n",
      "3066/3066 - 4s - loss: 48.6472 - val_loss: 9.2081\n",
      "Epoch 3/1000\n",
      "3066/3066 - 4s - loss: 33.7178 - val_loss: 12.5873\n",
      "Epoch 4/1000\n",
      "3066/3066 - 5s - loss: 32.5495 - val_loss: 5.7551\n",
      "Epoch 5/1000\n",
      "3066/3066 - 3s - loss: 25.2039 - val_loss: 4.9668\n",
      "Epoch 6/1000\n",
      "3066/3066 - 3s - loss: 24.1295 - val_loss: 2.6564\n",
      "Epoch 7/1000\n",
      "3066/3066 - 3s - loss: 24.7770 - val_loss: 3.6250\n",
      "Epoch 8/1000\n",
      "3066/3066 - 4s - loss: 23.5551 - val_loss: 3.6542\n",
      "Epoch 9/1000\n",
      "3066/3066 - 3s - loss: 22.0233 - val_loss: 3.7768\n",
      "Epoch 10/1000\n",
      "3066/3066 - 3s - loss: 21.2588 - val_loss: 3.0461\n",
      "Epoch 11/1000\n",
      "3066/3066 - 3s - loss: 21.5944 - val_loss: 4.0144\n",
      "Epoch 00011: early stopping\n"
     ]
    }
   ],
   "source": [
    "#checkpointer\n",
    "checkpointer = ModelCheckpoint(filepath=\"best_weights_lstm.hdf5\", verbose=0, save_best_only=True) # save best model\n",
    "for i in range(5):\n",
    "    print(i)    \n",
    "    print('Build model...')\n",
    "    model = Sequential()\n",
    "    model.add(LSTM(100, dropout=0.1, recurrent_dropout=0.1,input_shape=(10, 5)))\n",
    "    model.add(Dense(50))\n",
    "    model.add(Dense(1))\n",
    "    model.compile(loss='mean_squared_error', optimizer='adam')\n",
    "    monitor = EarlyStopping(monitor='val_loss', min_delta=1e-3, patience=5, verbose=1, mode='auto')\n",
    "    print('Train...')\n",
    "    model.fit(x_train_lstm,y_train_lstm,validation_data=(x_test_lstm,y_test_lstm),callbacks=[monitor,checkpointer],verbose=2, epochs=1000) \n"
   ]
  },
  {
   "cell_type": "code",
   "execution_count": 38,
   "metadata": {},
   "outputs": [
    {
     "name": "stdout",
     "output_type": "stream",
     "text": [
      "RMSE         : 1.4692524263396753\n",
      "MSE          : 2.1587026923050234\n",
      "R2 score     : 0.9975779985516923\n"
     ]
    },
    {
     "data": {
      "image/png": "[encoded data removed]",
      "text/plain": [
       "<Figure size 432x288 with 1 Axes>"
      ]
     },
     "metadata": {
      "needs_background": "light"
     },
     "output_type": "display_data"
    }
   ],
   "source": [
    "model.load_weights('best_weights_lstm.hdf5')\n",
    "pred = model.predict(x_test_lstm)\n",
    "score = np.sqrt(metrics.mean_squared_error(pred,y_test_lstm))\n",
    "print(\"RMSE         : {}\".format(score))\n",
    "print(\"MSE          :\", metrics.mean_squared_error(y_test_lstm, pred))\n",
    "print(\"R2 score     :\",metrics.r2_score(y_test_lstm,pred))\n",
    "# Plot the chart\n",
    "chart_regression(pred.flatten(),y_test_lstm)"
   ]
  },
  {
   "cell_type": "code",
   "execution_count": 39,
   "metadata": {},
   "outputs": [
    {
     "data": {
      "image/png": "[encoded data removed]",
      "text/plain": [
       "<Figure size 432x288 with 1 Axes>"
      ]
     },
     "metadata": {
      "needs_background": "light"
     },
     "output_type": "display_data"
    }
   ],
   "source": [
    "chart_regression(pred.flatten(),y_test_lstm,sort=False)"
   ]
  },
  {
   "cell_type": "markdown",
   "metadata": {},
   "source": [
    "### N=20 "
   ]
  },
  {
   "cell_type": "code",
   "execution_count": 40,
   "metadata": {},
   "outputs": [
    {
     "name": "stdout",
     "output_type": "stream",
     "text": [
      "Shape of x: (4371, 20, 5)\n",
      "Shape of y: (4371,)\n"
     ]
    }
   ],
   "source": [
    "#Preparing x and y\n",
    "SEQUENCE_SIZE = 20\n",
    "x,y = to_sequences(SEQUENCE_SIZE, df.values, df_stock_close)\n",
    "\n",
    "print(\"Shape of x: {}\".format(x.shape))\n",
    "print(\"Shape of y: {}\".format(y.shape))"
   ]
  },
  {
   "cell_type": "code",
   "execution_count": 41,
   "metadata": {},
   "outputs": [
    {
     "name": "stdout",
     "output_type": "stream",
     "text": [
      "Shape of x_train: (3059, 20, 5)\n",
      "Shape of x_test: (1312, 20, 5)\n",
      "Shape of y_train: (3059,)\n",
      "Shape of y_test: (1312,)\n"
     ]
    }
   ],
   "source": [
    "x_train_lstm,x_test_lstm,y_train_lstm,y_test_lstm = train_test_split(x,y, test_size=0.3, random_state =42)\n",
    "print(\"Shape of x_train: {}\".format(x_train_lstm.shape))\n",
    "print(\"Shape of x_test: {}\".format(x_test_lstm.shape))\n",
    "print(\"Shape of y_train: {}\".format(y_train_lstm.shape))\n",
    "print(\"Shape of y_test: {}\".format(y_test_lstm.shape))"
   ]
  },
  {
   "cell_type": "code",
   "execution_count": 42,
   "metadata": {},
   "outputs": [
    {
     "name": "stdout",
     "output_type": "stream",
     "text": [
      "0\n",
      "Build model...\n",
      "Train...\n",
      "Train on 3059 samples, validate on 1312 samples\n",
      "Epoch 1/1000\n",
      "3059/3059 - 19s - loss: 1022.3111 - val_loss: 762.1348\n",
      "Epoch 2/1000\n",
      "3059/3059 - 7s - loss: 266.9826 - val_loss: 18.6234\n",
      "Epoch 3/1000\n",
      "3059/3059 - 6s - loss: 47.6840 - val_loss: 15.0736\n",
      "Epoch 4/1000\n",
      "3059/3059 - 9s - loss: 35.7535 - val_loss: 12.9782\n",
      "Epoch 5/1000\n",
      "3059/3059 - 7s - loss: 26.8666 - val_loss: 7.3746\n",
      "Epoch 6/1000\n",
      "3059/3059 - 7s - loss: 27.5706 - val_loss: 11.6025\n",
      "Epoch 7/1000\n",
      "3059/3059 - 9s - loss: 21.5962 - val_loss: 6.6168\n",
      "Epoch 8/1000\n",
      "3059/3059 - 8s - loss: 22.5486 - val_loss: 5.7145\n",
      "Epoch 9/1000\n",
      "3059/3059 - 7s - loss: 20.6385 - val_loss: 6.6306\n",
      "Epoch 10/1000\n",
      "3059/3059 - 7s - loss: 18.7530 - val_loss: 7.7931\n",
      "Epoch 11/1000\n",
      "3059/3059 - 7s - loss: 18.3903 - val_loss: 7.4262\n",
      "Epoch 12/1000\n",
      "3059/3059 - 15s - loss: 19.7806 - val_loss: 5.5021\n",
      "Epoch 13/1000\n",
      "3059/3059 - 6s - loss: 15.5338 - val_loss: 7.5645\n",
      "Epoch 14/1000\n",
      "3059/3059 - 6s - loss: 17.6515 - val_loss: 8.1495\n",
      "Epoch 15/1000\n",
      "3059/3059 - 6s - loss: 15.4004 - val_loss: 3.7594\n",
      "Epoch 16/1000\n",
      "3059/3059 - 6s - loss: 17.4861 - val_loss: 8.6916\n",
      "Epoch 17/1000\n",
      "3059/3059 - 7s - loss: 15.5566 - val_loss: 3.7176\n",
      "Epoch 18/1000\n",
      "3059/3059 - 9s - loss: 13.9392 - val_loss: 4.1761\n",
      "Epoch 19/1000\n",
      "3059/3059 - 8s - loss: 14.8807 - val_loss: 3.3378\n",
      "Epoch 20/1000\n",
      "3059/3059 - 7s - loss: 13.0530 - val_loss: 3.2451\n",
      "Epoch 21/1000\n",
      "3059/3059 - 8s - loss: 14.0359 - val_loss: 4.4364\n",
      "Epoch 22/1000\n",
      "3059/3059 - 7s - loss: 13.9054 - val_loss: 5.6419\n",
      "Epoch 23/1000\n",
      "3059/3059 - 7s - loss: 13.4724 - val_loss: 8.6037\n",
      "Epoch 24/1000\n",
      "3059/3059 - 6s - loss: 13.2844 - val_loss: 3.2913\n",
      "Epoch 25/1000\n",
      "3059/3059 - 7s - loss: 13.5280 - val_loss: 2.3714\n",
      "Epoch 26/1000\n",
      "3059/3059 - 7s - loss: 11.1676 - val_loss: 4.6653\n",
      "Epoch 27/1000\n",
      "3059/3059 - 7s - loss: 9.9186 - val_loss: 3.2306\n",
      "Epoch 28/1000\n",
      "3059/3059 - 6s - loss: 12.9050 - val_loss: 4.0776\n",
      "Epoch 29/1000\n",
      "3059/3059 - 6s - loss: 11.2589 - val_loss: 3.2485\n",
      "Epoch 30/1000\n",
      "3059/3059 - 6s - loss: 9.7737 - val_loss: 2.6349\n",
      "Epoch 00030: early stopping\n",
      "1\n",
      "Build model...\n",
      "Train...\n",
      "Train on 3059 samples, validate on 1312 samples\n",
      "Epoch 1/1000\n",
      "3059/3059 - 13s - loss: 1016.2703 - val_loss: 640.9519\n",
      "Epoch 2/1000\n",
      "3059/3059 - 6s - loss: 189.2580 - val_loss: 34.9725\n",
      "Epoch 3/1000\n",
      "3059/3059 - 6s - loss: 40.1654 - val_loss: 9.6827\n",
      "Epoch 4/1000\n",
      "3059/3059 - 6s - loss: 30.9993 - val_loss: 7.4003\n",
      "Epoch 5/1000\n",
      "3059/3059 - 7s - loss: 25.4407 - val_loss: 8.3928\n",
      "Epoch 6/1000\n",
      "3059/3059 - 9s - loss: 25.8951 - val_loss: 5.6063\n",
      "Epoch 7/1000\n",
      "3059/3059 - 9s - loss: 20.3860 - val_loss: 7.1879\n",
      "Epoch 8/1000\n",
      "3059/3059 - 6s - loss: 21.4527 - val_loss: 4.6488\n",
      "Epoch 9/1000\n",
      "3059/3059 - 6s - loss: 20.9389 - val_loss: 5.6884\n",
      "Epoch 10/1000\n",
      "3059/3059 - 7s - loss: 18.2962 - val_loss: 5.3075\n",
      "Epoch 11/1000\n",
      "3059/3059 - 8s - loss: 17.3230 - val_loss: 5.7372\n",
      "Epoch 12/1000\n",
      "3059/3059 - 7s - loss: 17.8617 - val_loss: 4.0664\n",
      "Epoch 13/1000\n",
      "3059/3059 - 7s - loss: 17.7418 - val_loss: 4.0757\n",
      "Epoch 14/1000\n",
      "3059/3059 - 6s - loss: 17.0188 - val_loss: 7.4571\n",
      "Epoch 15/1000\n",
      "3059/3059 - 8s - loss: 16.7866 - val_loss: 3.3460\n",
      "Epoch 16/1000\n",
      "3059/3059 - 6s - loss: 14.7523 - val_loss: 4.9123\n",
      "Epoch 17/1000\n",
      "3059/3059 - 8s - loss: 15.2559 - val_loss: 6.6127\n",
      "Epoch 18/1000\n",
      "3059/3059 - 6s - loss: 15.1843 - val_loss: 3.4992\n",
      "Epoch 19/1000\n",
      "3059/3059 - 6s - loss: 14.1138 - val_loss: 3.4031\n",
      "Epoch 20/1000\n",
      "3059/3059 - 8s - loss: 15.2283 - val_loss: 6.0569\n",
      "Epoch 00020: early stopping\n",
      "2\n",
      "Build model...\n",
      "Train...\n",
      "Train on 3059 samples, validate on 1312 samples\n",
      "Epoch 1/1000\n",
      "3059/3059 - 14s - loss: 1037.1075 - val_loss: 834.9162\n",
      "Epoch 2/1000\n",
      "3059/3059 - 6s - loss: 361.0488 - val_loss: 26.6788\n",
      "Epoch 3/1000\n",
      "3059/3059 - 7s - loss: 53.5628 - val_loss: 17.5189\n",
      "Epoch 4/1000\n",
      "3059/3059 - 12s - loss: 33.8054 - val_loss: 9.0578\n",
      "Epoch 5/1000\n",
      "3059/3059 - 6s - loss: 32.3223 - val_loss: 10.0697\n",
      "Epoch 6/1000\n",
      "3059/3059 - 6s - loss: 26.3371 - val_loss: 11.5481\n",
      "Epoch 7/1000\n",
      "3059/3059 - 7s - loss: 25.9750 - val_loss: 7.3289\n",
      "Epoch 8/1000\n",
      "3059/3059 - 6s - loss: 26.0485 - val_loss: 5.8994\n",
      "Epoch 9/1000\n",
      "3059/3059 - 6s - loss: 20.9762 - val_loss: 6.8611\n",
      "Epoch 10/1000\n",
      "3059/3059 - 6s - loss: 20.3609 - val_loss: 5.2575\n",
      "Epoch 11/1000\n",
      "3059/3059 - 6s - loss: 18.4502 - val_loss: 4.9408\n",
      "Epoch 12/1000\n",
      "3059/3059 - 6s - loss: 17.2040 - val_loss: 6.5238\n",
      "Epoch 13/1000\n",
      "3059/3059 - 8s - loss: 19.0968 - val_loss: 4.6714\n",
      "Epoch 14/1000\n",
      "3059/3059 - 6s - loss: 18.6265 - val_loss: 5.7213\n",
      "Epoch 15/1000\n",
      "3059/3059 - 6s - loss: 15.5017 - val_loss: 5.7381\n",
      "Epoch 16/1000\n",
      "3059/3059 - 6s - loss: 15.1658 - val_loss: 5.1864\n",
      "Epoch 17/1000\n",
      "3059/3059 - 6s - loss: 17.4131 - val_loss: 4.4967\n",
      "Epoch 18/1000\n",
      "3059/3059 - 7s - loss: 15.1129 - val_loss: 6.6222\n",
      "Epoch 19/1000\n",
      "3059/3059 - 6s - loss: 13.4897 - val_loss: 3.2350\n",
      "Epoch 20/1000\n",
      "3059/3059 - 6s - loss: 13.4753 - val_loss: 3.3025\n",
      "Epoch 21/1000\n",
      "3059/3059 - 7s - loss: 14.2812 - val_loss: 5.4546\n",
      "Epoch 22/1000\n",
      "3059/3059 - 7s - loss: 14.2325 - val_loss: 4.5234\n",
      "Epoch 23/1000\n",
      "3059/3059 - 11s - loss: 12.7567 - val_loss: 5.1189\n",
      "Epoch 24/1000\n",
      "3059/3059 - 7s - loss: 12.2245 - val_loss: 4.7440\n",
      "Epoch 00024: early stopping\n",
      "3\n",
      "Build model...\n",
      "Train...\n",
      "Train on 3059 samples, validate on 1312 samples\n",
      "Epoch 1/1000\n",
      "3059/3059 - 15s - loss: 1020.3248 - val_loss: 826.8690\n",
      "Epoch 2/1000\n",
      "3059/3059 - 7s - loss: 381.8712 - val_loss: 35.7674\n",
      "Epoch 3/1000\n",
      "3059/3059 - 8s - loss: 58.3406 - val_loss: 15.0330\n",
      "Epoch 4/1000\n",
      "3059/3059 - 7s - loss: 44.2220 - val_loss: 7.4342\n",
      "Epoch 5/1000\n",
      "3059/3059 - 7s - loss: 31.6935 - val_loss: 9.4179\n",
      "Epoch 6/1000\n",
      "3059/3059 - 9s - loss: 26.1198 - val_loss: 6.4971\n",
      "Epoch 7/1000\n",
      "3059/3059 - 10s - loss: 23.0192 - val_loss: 9.6193\n",
      "Epoch 8/1000\n",
      "3059/3059 - 10s - loss: 25.5745 - val_loss: 6.0186\n",
      "Epoch 9/1000\n",
      "3059/3059 - 8s - loss: 19.5182 - val_loss: 4.7134\n",
      "Epoch 10/1000\n",
      "3059/3059 - 7s - loss: 20.8667 - val_loss: 7.5123\n",
      "Epoch 11/1000\n",
      "3059/3059 - 8s - loss: 20.3542 - val_loss: 5.5642\n",
      "Epoch 12/1000\n",
      "3059/3059 - 7s - loss: 18.9403 - val_loss: 9.1913\n",
      "Epoch 13/1000\n",
      "3059/3059 - 8s - loss: 19.4929 - val_loss: 5.6323\n",
      "Epoch 14/1000\n",
      "3059/3059 - 7s - loss: 17.4966 - val_loss: 15.7694\n",
      "Epoch 00014: early stopping\n",
      "4\n",
      "Build model...\n",
      "Train...\n",
      "Train on 3059 samples, validate on 1312 samples\n",
      "Epoch 1/1000\n",
      "3059/3059 - 17s - loss: 1034.1580 - val_loss: 877.3578\n",
      "Epoch 2/1000\n",
      "3059/3059 - 10s - loss: 543.2573 - val_loss: 109.9738\n",
      "Epoch 3/1000\n",
      "3059/3059 - 12s - loss: 66.5235 - val_loss: 24.9245\n",
      "Epoch 4/1000\n",
      "3059/3059 - 16s - loss: 42.2481 - val_loss: 11.5865\n",
      "Epoch 5/1000\n",
      "3059/3059 - 7s - loss: 28.8604 - val_loss: 9.6599\n",
      "Epoch 6/1000\n",
      "3059/3059 - 9s - loss: 26.9518 - val_loss: 9.0382\n",
      "Epoch 7/1000\n",
      "3059/3059 - 7s - loss: 21.1597 - val_loss: 7.5077\n",
      "Epoch 8/1000\n",
      "3059/3059 - 8s - loss: 22.5531 - val_loss: 6.6330\n",
      "Epoch 9/1000\n",
      "3059/3059 - 8s - loss: 21.3036 - val_loss: 7.3039\n",
      "Epoch 10/1000\n",
      "3059/3059 - 9s - loss: 20.6451 - val_loss: 7.3436\n",
      "Epoch 11/1000\n",
      "3059/3059 - 8s - loss: 19.8185 - val_loss: 4.5396\n",
      "Epoch 12/1000\n",
      "3059/3059 - 8s - loss: 18.1487 - val_loss: 4.0709\n",
      "Epoch 13/1000\n",
      "3059/3059 - 8s - loss: 17.9467 - val_loss: 9.6054\n",
      "Epoch 14/1000\n",
      "3059/3059 - 8s - loss: 17.7596 - val_loss: 3.6264\n",
      "Epoch 15/1000\n",
      "3059/3059 - 7s - loss: 15.8285 - val_loss: 4.0877\n",
      "Epoch 16/1000\n",
      "3059/3059 - 8s - loss: 14.3211 - val_loss: 3.5614\n",
      "Epoch 17/1000\n",
      "3059/3059 - 13s - loss: 13.8410 - val_loss: 4.6561\n",
      "Epoch 18/1000\n",
      "3059/3059 - 9s - loss: 13.7853 - val_loss: 7.6721\n",
      "Epoch 19/1000\n",
      "3059/3059 - 13s - loss: 14.7490 - val_loss: 4.3238\n",
      "Epoch 20/1000\n",
      "3059/3059 - 8s - loss: 13.8771 - val_loss: 4.2401\n",
      "Epoch 21/1000\n",
      "3059/3059 - 8s - loss: 14.9350 - val_loss: 7.9657\n",
      "Epoch 00021: early stopping\n"
     ]
    }
   ],
   "source": [
    "#checkpointer\n",
    "checkpointer = ModelCheckpoint(filepath=\"best_weights_lstm.hdf5\", verbose=0, save_best_only=True) # save best model\n",
    "for i in range(5):\n",
    "    print(i)    \n",
    "    print('Build model...')\n",
    "    model = Sequential()\n",
    "    model.add(LSTM(100, dropout=0.1, recurrent_dropout=0.1,input_shape=(20, 5)))\n",
    "    model.add(Dense(50))\n",
    "    model.add(Dense(1))\n",
    "    model.compile(loss='mean_squared_error', optimizer='adam')\n",
    "    monitor = EarlyStopping(monitor='val_loss', min_delta=1e-3, patience=5, verbose=1, mode='auto')\n",
    "    print('Train...')\n",
    "    model.fit(x_train_lstm,y_train_lstm,validation_data=(x_test_lstm,y_test_lstm),callbacks=[monitor,checkpointer],verbose=2, epochs=1000) \n"
   ]
  },
  {
   "cell_type": "code",
   "execution_count": 43,
   "metadata": {},
   "outputs": [
    {
     "name": "stdout",
     "output_type": "stream",
     "text": [
      "RMSE         : 1.5399281907985167\n",
      "MSE          : 2.3713788328159926\n",
      "R2 score     : 0.997420668182308\n"
     ]
    },
    {
     "data": {
      "image/png": "[encoded data removed]",
      "text/plain": [
       "<Figure size 432x288 with 1 Axes>"
      ]
     },
     "metadata": {
      "needs_background": "light"
     },
     "output_type": "display_data"
    }
   ],
   "source": [
    "model.load_weights('best_weights_lstm.hdf5')\n",
    "pred = model.predict(x_test_lstm)\n",
    "score = np.sqrt(metrics.mean_squared_error(pred,y_test_lstm))\n",
    "print(\"RMSE         : {}\".format(score))\n",
    "print(\"MSE          :\", metrics.mean_squared_error(y_test_lstm, pred))\n",
    "print(\"R2 score     :\",metrics.r2_score(y_test_lstm,pred))\n",
    "# Plot the chart\n",
    "chart_regression(pred.flatten(),y_test_lstm)"
   ]
  },
  {
   "cell_type": "code",
   "execution_count": 44,
   "metadata": {},
   "outputs": [
    {
     "data": {
      "image/png": "[encoded data removed]",
      "text/plain": [
       "<Figure size 432x288 with 1 Axes>"
      ]
     },
     "metadata": {
      "needs_background": "light"
     },
     "output_type": "display_data"
    }
   ],
   "source": [
    "chart_regression(pred.flatten(),y_test_lstm,sort=False)"
   ]
  }
 ],
 "metadata": {
  "kernelspec": {
   "display_name": "Python 3",
   "language": "python",
   "name": "python3"
  },
  "language_info": {
   "codemirror_mode": {
    "name": "ipython",
    "version": 3
   },
   "file_extension": ".py",
   "mimetype": "text/x-python",
   "name": "python",
   "nbconvert_exporter": "python",
   "pygments_lexer": "ipython3",
   "version": "3.7.3"
  }
 },
 "nbformat": 4,
 "nbformat_minor": 2
}
